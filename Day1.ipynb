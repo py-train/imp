{
 "cells": [
  {
   "cell_type": "code",
   "execution_count": 1,
   "id": "574a759c-cccb-4af9-b07a-0de2bc8739b6",
   "metadata": {},
   "outputs": [
    {
     "name": "stdout",
     "output_type": "stream",
     "text": [
      "Hello, world\n"
     ]
    }
   ],
   "source": [
    "print('Hello, world')"
   ]
  },
  {
   "cell_type": "code",
   "execution_count": 2,
   "id": "c7b564ba-325c-496a-a177-14dfeb5c96ba",
   "metadata": {},
   "outputs": [
    {
     "data": {
      "text/plain": [
       "5"
      ]
     },
     "execution_count": 2,
     "metadata": {},
     "output_type": "execute_result"
    }
   ],
   "source": [
    "2+3"
   ]
  },
  {
   "cell_type": "markdown",
   "id": "937f0d7b-ca57-4579-aafa-d5ca5c76bf8a",
   "metadata": {},
   "source": [
    "### Advantages\n",
    "\n",
    "- Programmer friendly\n",
    "- Package availability/support\n",
    "\n",
    "### Disadvantages\n",
    "\n",
    "- Slower\n",
    "- Sub-optimal resource usage (memory/disk/..)\n",
    "- Errors discovered at runtime"
   ]
  },
  {
   "cell_type": "markdown",
   "id": "82ffc6e0-a880-43f6-a945-426fb41326a5",
   "metadata": {},
   "source": [
    "## Language Features\n",
    "\n",
    "- Interpreted\n",
    "- Line-by-line execution\n",
    "- Type inferenced\n",
    "- Dynamic"
   ]
  },
  {
   "cell_type": "code",
   "execution_count": 10,
   "id": "a9dab8c9-8ea6-4695-88e1-ae807683f00d",
   "metadata": {},
   "outputs": [],
   "source": [
    "i = 10\n",
    "f = 4.2\n",
    "name = \"Leanardo\"\n",
    "lastname = 'Di Caprio'\n",
    "present = True\n",
    "finished = False"
   ]
  },
  {
   "cell_type": "code",
   "execution_count": 6,
   "id": "6cf04ea3-bc75-4008-8854-44d59a0a76f8",
   "metadata": {},
   "outputs": [
    {
     "data": {
      "text/plain": [
       "float"
      ]
     },
     "execution_count": 6,
     "metadata": {},
     "output_type": "execute_result"
    }
   ],
   "source": [
    "type(i)\n",
    "type(f)"
   ]
  },
  {
   "cell_type": "code",
   "execution_count": 9,
   "id": "3071f3a6-0332-4ba4-b748-4ab9d24b5938",
   "metadata": {},
   "outputs": [
    {
     "data": {
      "text/plain": [
       "str"
      ]
     },
     "execution_count": 9,
     "metadata": {},
     "output_type": "execute_result"
    }
   ],
   "source": [
    "type(name)"
   ]
  },
  {
   "cell_type": "code",
   "execution_count": 11,
   "id": "ae97901c-f29a-4d8c-a5f3-8d7b308bca22",
   "metadata": {},
   "outputs": [
    {
     "data": {
      "text/plain": [
       "bool"
      ]
     },
     "execution_count": 11,
     "metadata": {},
     "output_type": "execute_result"
    }
   ],
   "source": [
    "type(finished)"
   ]
  },
  {
   "cell_type": "code",
   "execution_count": 13,
   "id": "02946707-efec-499d-b34f-081a8e00f3c4",
   "metadata": {},
   "outputs": [],
   "source": [
    "count = 121"
   ]
  },
  {
   "cell_type": "code",
   "execution_count": 14,
   "id": "24d4072b-546f-4f8c-9255-b6a9138e9b6f",
   "metadata": {},
   "outputs": [
    {
     "name": "stdout",
     "output_type": "stream",
     "text": [
      "121\n"
     ]
    }
   ],
   "source": [
    "print(count)"
   ]
  },
  {
   "cell_type": "code",
   "execution_count": 32,
   "id": "380a6ee8-a5ca-4683-af9d-810f9a483bb3",
   "metadata": {},
   "outputs": [],
   "source": [
    "principle = 12_345\n",
    "n = 7\n",
    "r = 11"
   ]
  },
  {
   "cell_type": "code",
   "execution_count": 33,
   "id": "f844fce6-9368-4a69-9c14-0d2abd88baab",
   "metadata": {},
   "outputs": [],
   "source": [
    "amt = principle * (1 + r/100) ** n\n",
    "ci = amt-principle"
   ]
  },
  {
   "cell_type": "code",
   "execution_count": 30,
   "id": "f714f62f-8d49-4c15-891b-2e8114d2fe80",
   "metadata": {},
   "outputs": [
    {
     "data": {
      "text/plain": [
       "10745.267646427557"
      ]
     },
     "execution_count": 30,
     "metadata": {},
     "output_type": "execute_result"
    }
   ],
   "source": [
    "ci"
   ]
  },
  {
   "cell_type": "code",
   "execution_count": 21,
   "id": "74632d0a-8107-428d-afa7-6a73a2addbf4",
   "metadata": {},
   "outputs": [
    {
     "name": "stdout",
     "output_type": "stream",
     "text": [
      "8457.042924709509\n"
     ]
    }
   ],
   "source": [
    "print(ci)"
   ]
  },
  {
   "cell_type": "code",
   "execution_count": 16,
   "id": "85f28815-721d-47f5-a721-a45d0606ab8f",
   "metadata": {},
   "outputs": [
    {
     "data": {
      "text/plain": [
       "8"
      ]
     },
     "execution_count": 16,
     "metadata": {},
     "output_type": "execute_result"
    }
   ],
   "source": [
    "2 ** 3"
   ]
  },
  {
   "cell_type": "code",
   "execution_count": 22,
   "id": "caf52d56-90a2-4fa5-b26f-f1a55cdc99a2",
   "metadata": {},
   "outputs": [
    {
     "data": {
      "text/plain": [
       "20802.04292470951"
      ]
     },
     "execution_count": 22,
     "metadata": {},
     "output_type": "execute_result"
    }
   ],
   "source": [
    "amt"
   ]
  },
  {
   "cell_type": "code",
   "execution_count": 23,
   "id": "a8afed7f-2839-4d46-a94e-ab45ad19947b",
   "metadata": {},
   "outputs": [
    {
     "data": {
      "text/plain": [
       "6789.75"
      ]
     },
     "execution_count": 23,
     "metadata": {},
     "output_type": "execute_result"
    }
   ],
   "source": [
    "principle * n * r /100"
   ]
  },
  {
   "cell_type": "code",
   "execution_count": 34,
   "id": "6c5d3abd-120b-4be7-b3cb-21ac9fc68500",
   "metadata": {},
   "outputs": [
    {
     "data": {
      "text/plain": [
       "True"
      ]
     },
     "execution_count": 34,
     "metadata": {},
     "output_type": "execute_result"
    }
   ],
   "source": [
    "# Money doubled or not?\n",
    "amt >= 2 * principle"
   ]
  },
  {
   "cell_type": "code",
   "execution_count": 35,
   "id": "5236becc-efda-42fe-af3e-eac0e13e2b3b",
   "metadata": {},
   "outputs": [
    {
     "name": "stdout",
     "output_type": "stream",
     "text": [
      "Doubled! Yay!\n"
     ]
    }
   ],
   "source": [
    "if amt >= 2 * principle:\n",
    "    print('Doubled! Yay!')\n",
    "else:\n",
    "    print('Not yet :(')"
   ]
  },
  {
   "cell_type": "markdown",
   "id": "80513cb6-e579-4e90-847e-edf9aee1255e",
   "metadata": {},
   "source": [
    "### Lists\n",
    "\n",
    "    Sequenced collection of items"
   ]
  },
  {
   "cell_type": "code",
   "execution_count": 52,
   "id": "60ae540d-ffcf-442e-b264-74a271b07997",
   "metadata": {},
   "outputs": [],
   "source": [
    "num1 = 12\n",
    "num2 = 13\n",
    "\n",
    "empty = []\n",
    "nums = [12, 13, 14, 15]\n",
    "nums2 = [13, 12, 15, 14]\n",
    "names = ['Tom', 'Dick', 'Harry']\n",
    "coll = [1, 4.2, 'hello']      # heterogenous\n",
    "lol = [[nums, names], coll]"
   ]
  },
  {
   "cell_type": "code",
   "execution_count": 40,
   "id": "0eedbc0d-1ca0-43da-b5da-292b72d06648",
   "metadata": {},
   "outputs": [
    {
     "data": {
      "text/plain": [
       "list"
      ]
     },
     "execution_count": 40,
     "metadata": {},
     "output_type": "execute_result"
    }
   ],
   "source": [
    "type(nums)\n",
    "type(names)"
   ]
  },
  {
   "cell_type": "code",
   "execution_count": 43,
   "id": "131b119d-75fb-4a70-b316-d22133e4ef68",
   "metadata": {},
   "outputs": [
    {
     "data": {
      "text/plain": [
       "4"
      ]
     },
     "execution_count": 43,
     "metadata": {},
     "output_type": "execute_result"
    }
   ],
   "source": [
    "len(nums)"
   ]
  },
  {
   "cell_type": "code",
   "execution_count": 44,
   "id": "83956473-b936-48c5-b931-4e87ffb1d158",
   "metadata": {},
   "outputs": [
    {
     "data": {
      "text/plain": [
       "0"
      ]
     },
     "execution_count": 44,
     "metadata": {},
     "output_type": "execute_result"
    }
   ],
   "source": [
    "len([])"
   ]
  },
  {
   "cell_type": "code",
   "execution_count": 46,
   "id": "6ad2a16f-0cfa-4ce0-8db8-84231c963d76",
   "metadata": {},
   "outputs": [
    {
     "data": {
      "text/plain": [
       "12"
      ]
     },
     "execution_count": 46,
     "metadata": {},
     "output_type": "execute_result"
    }
   ],
   "source": [
    "nums[0]"
   ]
  },
  {
   "cell_type": "code",
   "execution_count": 47,
   "id": "3c0ac0c4-b133-444a-9255-cd8f6018ad00",
   "metadata": {},
   "outputs": [
    {
     "data": {
      "text/plain": [
       "15"
      ]
     },
     "execution_count": 47,
     "metadata": {},
     "output_type": "execute_result"
    }
   ],
   "source": [
    "nums[3]"
   ]
  },
  {
   "cell_type": "code",
   "execution_count": 51,
   "id": "2830be1a-a6b4-4053-9445-33e5f7703e0d",
   "metadata": {},
   "outputs": [
    {
     "data": {
      "text/plain": [
       "15"
      ]
     },
     "execution_count": 51,
     "metadata": {},
     "output_type": "execute_result"
    }
   ],
   "source": [
    "nums[len(nums)-1]"
   ]
  },
  {
   "cell_type": "code",
   "execution_count": 48,
   "id": "52181432-e06d-431e-a7e3-8fe382dad3dc",
   "metadata": {},
   "outputs": [
    {
     "ename": "IndexError",
     "evalue": "list index out of range",
     "output_type": "error",
     "traceback": [
      "\u001b[0;31m---------------------------------------------------------------------------\u001b[0m",
      "\u001b[0;31mIndexError\u001b[0m                                Traceback (most recent call last)",
      "Cell \u001b[0;32mIn[48], line 1\u001b[0m\n\u001b[0;32m----> 1\u001b[0m nums[\u001b[38;5;241m4\u001b[39m]\n",
      "\u001b[0;31mIndexError\u001b[0m: list index out of range"
     ]
    }
   ],
   "source": [
    "nums[4]"
   ]
  },
  {
   "cell_type": "code",
   "execution_count": 49,
   "id": "c901757b-fe3e-4d89-a369-c107eb1e4c2d",
   "metadata": {},
   "outputs": [
    {
     "data": {
      "text/plain": [
       "15"
      ]
     },
     "execution_count": 49,
     "metadata": {},
     "output_type": "execute_result"
    }
   ],
   "source": [
    "nums[-1]"
   ]
  },
  {
   "cell_type": "code",
   "execution_count": 50,
   "id": "c0d94e2d-e656-422a-ace2-3ae79f3918ad",
   "metadata": {},
   "outputs": [
    {
     "data": {
      "text/plain": [
       "14"
      ]
     },
     "execution_count": 50,
     "metadata": {},
     "output_type": "execute_result"
    }
   ],
   "source": [
    "nums[-2]"
   ]
  },
  {
   "cell_type": "code",
   "execution_count": 53,
   "id": "e689dbbf-b53e-4daa-8c04-dc7503cd8096",
   "metadata": {},
   "outputs": [
    {
     "data": {
      "text/plain": [
       "2"
      ]
     },
     "execution_count": 53,
     "metadata": {},
     "output_type": "execute_result"
    }
   ],
   "source": [
    "len(lol)"
   ]
  },
  {
   "cell_type": "code",
   "execution_count": 56,
   "id": "b283c672-660b-4af3-89ce-bf6f18715888",
   "metadata": {},
   "outputs": [
    {
     "ename": "TypeError",
     "evalue": "'int' object is not subscriptable",
     "output_type": "error",
     "traceback": [
      "\u001b[0;31m---------------------------------------------------------------------------\u001b[0m",
      "\u001b[0;31mTypeError\u001b[0m                                 Traceback (most recent call last)",
      "Cell \u001b[0;32mIn[56], line 1\u001b[0m\n\u001b[0;32m----> 1\u001b[0m lol[\u001b[38;5;241m-\u001b[39m\u001b[38;5;241m1\u001b[39m][\u001b[38;5;241m0\u001b[39m][\u001b[38;5;241m-\u001b[39m\u001b[38;5;241m1\u001b[39m]\n",
      "\u001b[0;31mTypeError\u001b[0m: 'int' object is not subscriptable"
     ]
    }
   ],
   "source": [
    "lol[-1][0][-1]"
   ]
  },
  {
   "cell_type": "code",
   "execution_count": 65,
   "id": "c6b2377b-3c1d-438e-98a1-53f2c1fda0ad",
   "metadata": {},
   "outputs": [
    {
     "data": {
      "text/plain": [
       "'Harry'"
      ]
     },
     "execution_count": 65,
     "metadata": {},
     "output_type": "execute_result"
    }
   ],
   "source": [
    "lol[0][-1][-1]\n",
    "# lol[0][-1][-1][-1]"
   ]
  },
  {
   "cell_type": "markdown",
   "id": "c58710a7-f1ae-4402-ba51-ed4b38f8d9cf",
   "metadata": {},
   "source": [
    "### Slicing\n",
    "\n",
    "    list [ start : stop ]\n",
    "\n",
    "    start : inclusive, default: 0/start\n",
    "    stop : non-inclusive, default: end"
   ]
  },
  {
   "cell_type": "code",
   "execution_count": 70,
   "id": "20d8384a-3dc2-46b6-97b0-db1546b87e37",
   "metadata": {},
   "outputs": [
    {
     "data": {
      "text/plain": [
       "[13, 14, 15]"
      ]
     },
     "execution_count": 70,
     "metadata": {},
     "output_type": "execute_result"
    }
   ],
   "source": [
    "# Slice\n",
    "nums[1:4]\n",
    "nums[1:3+1]"
   ]
  },
  {
   "cell_type": "code",
   "execution_count": 71,
   "id": "6e71b244-1f2f-4265-9b3e-19539d40d349",
   "metadata": {},
   "outputs": [
    {
     "data": {
      "text/plain": [
       "\u001b[0;31mInit signature:\u001b[0m \u001b[0mrange\u001b[0m\u001b[0;34m(\u001b[0m\u001b[0mself\u001b[0m\u001b[0;34m,\u001b[0m \u001b[0;34m/\u001b[0m\u001b[0;34m,\u001b[0m \u001b[0;34m*\u001b[0m\u001b[0margs\u001b[0m\u001b[0;34m,\u001b[0m \u001b[0;34m**\u001b[0m\u001b[0mkwargs\u001b[0m\u001b[0;34m)\u001b[0m\u001b[0;34m\u001b[0m\u001b[0;34m\u001b[0m\u001b[0m\n",
       "\u001b[0;31mDocstring:\u001b[0m     \n",
       "range(stop) -> range object\n",
       "range(start, stop[, step]) -> range object\n",
       "\n",
       "Return an object that produces a sequence of integers from start (inclusive)\n",
       "to stop (exclusive) by step.  range(i, j) produces i, i+1, i+2, ..., j-1.\n",
       "start defaults to 0, and stop is omitted!  range(4) produces 0, 1, 2, 3.\n",
       "These are exactly the valid indices for a list of 4 elements.\n",
       "When step is given, it specifies the increment (or decrement).\n",
       "\u001b[0;31mType:\u001b[0m           type\n",
       "\u001b[0;31mSubclasses:\u001b[0m     "
      ]
     },
     "metadata": {},
     "output_type": "display_data"
    }
   ],
   "source": [
    "range?"
   ]
  },
  {
   "cell_type": "code",
   "execution_count": 73,
   "id": "a590f652-60dc-466e-b39c-df5f8b8e496c",
   "metadata": {},
   "outputs": [
    {
     "data": {
      "text/plain": [
       "range"
      ]
     },
     "execution_count": 73,
     "metadata": {},
     "output_type": "execute_result"
    }
   ],
   "source": [
    "type(range(10))"
   ]
  },
  {
   "cell_type": "code",
   "execution_count": 80,
   "id": "c7ac2b8b-5294-4d0e-9aa1-ee5a60e2cca6",
   "metadata": {},
   "outputs": [
    {
     "data": {
      "text/plain": [
       "[0, 1, 2, 3, 4, 5, 6, 7, 8, 9]"
      ]
     },
     "execution_count": 80,
     "metadata": {},
     "output_type": "execute_result"
    }
   ],
   "source": [
    "list(range(10))     # lazy object : range"
   ]
  },
  {
   "cell_type": "code",
   "execution_count": 76,
   "id": "ecda2f16-c48a-4a42-8411-b0b2d6415942",
   "metadata": {},
   "outputs": [
    {
     "data": {
      "text/plain": [
       "4"
      ]
     },
     "execution_count": 76,
     "metadata": {},
     "output_type": "execute_result"
    }
   ],
   "source": [
    "int(4.2)"
   ]
  },
  {
   "cell_type": "code",
   "execution_count": 77,
   "id": "e6a0a900-9608-473a-a7bb-2fda5a2ed064",
   "metadata": {},
   "outputs": [
    {
     "data": {
      "text/plain": [
       "123"
      ]
     },
     "execution_count": 77,
     "metadata": {},
     "output_type": "execute_result"
    }
   ],
   "source": [
    "int(\"123\")"
   ]
  },
  {
   "cell_type": "code",
   "execution_count": 78,
   "id": "12981abf-fe45-44a4-8cf6-71f4762c6358",
   "metadata": {},
   "outputs": [
    {
     "ename": "ValueError",
     "evalue": "invalid literal for int() with base 10: '12.3'",
     "output_type": "error",
     "traceback": [
      "\u001b[0;31m---------------------------------------------------------------------------\u001b[0m",
      "\u001b[0;31mValueError\u001b[0m                                Traceback (most recent call last)",
      "Cell \u001b[0;32mIn[78], line 1\u001b[0m\n\u001b[0;32m----> 1\u001b[0m \u001b[38;5;28mint\u001b[39m(\u001b[38;5;124m\"\u001b[39m\u001b[38;5;124m12.3\u001b[39m\u001b[38;5;124m\"\u001b[39m)\n",
      "\u001b[0;31mValueError\u001b[0m: invalid literal for int() with base 10: '12.3'"
     ]
    }
   ],
   "source": [
    "int(\"12.3\")"
   ]
  },
  {
   "cell_type": "code",
   "execution_count": 81,
   "id": "7a2455b4-fa6a-43be-9b20-f2fd82cde7b2",
   "metadata": {},
   "outputs": [
    {
     "data": {
      "text/plain": [
       "[0, 1, 2, 3, 4, 5, 6, 7, 8, 9]"
      ]
     },
     "execution_count": 81,
     "metadata": {},
     "output_type": "execute_result"
    }
   ],
   "source": [
    "nums = list(range(10))\n",
    "nums"
   ]
  },
  {
   "cell_type": "code",
   "execution_count": 87,
   "id": "3a56dd7b-0ce7-47c7-97c4-d7052fa38925",
   "metadata": {},
   "outputs": [
    {
     "data": {
      "text/plain": [
       "[10, 12, 14, 16, 18, 20, 22, 24, 26, 28]"
      ]
     },
     "execution_count": 87,
     "metadata": {},
     "output_type": "execute_result"
    }
   ],
   "source": [
    "nums = list(range(10,30,2))\n",
    "nums"
   ]
  },
  {
   "cell_type": "code",
   "execution_count": 83,
   "id": "7401ab2e-060f-4739-9c53-bdb79787d56f",
   "metadata": {},
   "outputs": [
    {
     "data": {
      "text/plain": [
       "[22, 24, 26]"
      ]
     },
     "execution_count": 83,
     "metadata": {},
     "output_type": "execute_result"
    }
   ],
   "source": [
    "[12,14,16]\n",
    "[22,24,26]"
   ]
  },
  {
   "cell_type": "code",
   "execution_count": 86,
   "id": "33d6b898-6267-488e-b811-b677860a5adb",
   "metadata": {},
   "outputs": [
    {
     "data": {
      "text/plain": [
       "[12, 14, 16]"
      ]
     },
     "execution_count": 86,
     "metadata": {},
     "output_type": "execute_result"
    }
   ],
   "source": [
    "nums[1:4]"
   ]
  },
  {
   "cell_type": "code",
   "execution_count": 90,
   "id": "f91f87de-1b30-45c1-914d-1e972b2a5ed2",
   "metadata": {},
   "outputs": [
    {
     "data": {
      "text/plain": [
       "[22, 24, 26]"
      ]
     },
     "execution_count": 90,
     "metadata": {},
     "output_type": "execute_result"
    }
   ],
   "source": [
    "nums[-4:-1]\n",
    "nums[6:9]\n",
    "nums[6:-1]"
   ]
  },
  {
   "cell_type": "code",
   "execution_count": 97,
   "id": "64103453-8959-4d50-81ce-c3a944367db5",
   "metadata": {},
   "outputs": [
    {
     "data": {
      "text/plain": [
       "[22, 24, 26, 28]"
      ]
     },
     "execution_count": 97,
     "metadata": {},
     "output_type": "execute_result"
    }
   ],
   "source": [
    "nums[6:10]\n",
    "nums[6:]\n",
    "nums[-4:]    # last 4 elements"
   ]
  },
  {
   "cell_type": "code",
   "execution_count": 96,
   "id": "c613ab4e-7992-43db-b1ab-4e82d7930551",
   "metadata": {},
   "outputs": [
    {
     "data": {
      "text/plain": [
       "[10, 12, 14, 16]"
      ]
     },
     "execution_count": 96,
     "metadata": {},
     "output_type": "execute_result"
    }
   ],
   "source": [
    "nums[:4]"
   ]
  },
  {
   "cell_type": "code",
   "execution_count": 98,
   "id": "16125fbd-14f4-4b1e-9cb1-2765aaa4ed5a",
   "metadata": {},
   "outputs": [
    {
     "data": {
      "text/plain": [
       "[10, 12, 14, 16, 18, 20, 22, 24, 26, 28]"
      ]
     },
     "execution_count": 98,
     "metadata": {},
     "output_type": "execute_result"
    }
   ],
   "source": [
    "nums[:]"
   ]
  },
  {
   "cell_type": "code",
   "execution_count": 99,
   "id": "3f3dfb46-7703-4283-81ed-77645f012e77",
   "metadata": {},
   "outputs": [
    {
     "data": {
      "text/plain": [
       "[10, 12, 14, 16, 18, 20, 22, 24, 26, 28]"
      ]
     },
     "execution_count": 99,
     "metadata": {},
     "output_type": "execute_result"
    }
   ],
   "source": [
    "nums"
   ]
  },
  {
   "cell_type": "code",
   "execution_count": 100,
   "id": "e56b2e01-829e-4dd6-a8b5-b0abf515a374",
   "metadata": {},
   "outputs": [
    {
     "data": {
      "text/plain": [
       "[10]"
      ]
     },
     "execution_count": 100,
     "metadata": {},
     "output_type": "execute_result"
    }
   ],
   "source": [
    "nums[:1]"
   ]
  },
  {
   "cell_type": "code",
   "execution_count": 101,
   "id": "955cf97c-a836-4a4a-8895-71958ce7fc32",
   "metadata": {},
   "outputs": [
    {
     "data": {
      "text/plain": [
       "[]"
      ]
     },
     "execution_count": 101,
     "metadata": {},
     "output_type": "execute_result"
    }
   ],
   "source": [
    "nums[:0]"
   ]
  },
  {
   "cell_type": "code",
   "execution_count": 112,
   "id": "54b3696a-0d4d-404a-aa9a-05e771616f42",
   "metadata": {},
   "outputs": [
    {
     "data": {
      "text/plain": [
       "[10, 12, 14, 16, 18, 20, 22, 24, 26, 28]"
      ]
     },
     "execution_count": 112,
     "metadata": {},
     "output_type": "execute_result"
    }
   ],
   "source": [
    "nums"
   ]
  },
  {
   "cell_type": "code",
   "execution_count": 102,
   "id": "f52d5f34-4a83-45c0-b065-0e40b1767191",
   "metadata": {},
   "outputs": [
    {
     "data": {
      "text/plain": [
       "[]"
      ]
     },
     "execution_count": 102,
     "metadata": {},
     "output_type": "execute_result"
    }
   ],
   "source": [
    "nums[-1:0]"
   ]
  },
  {
   "cell_type": "code",
   "execution_count": 113,
   "id": "e2e0c822-d5de-46fc-850b-852e371e0a2e",
   "metadata": {},
   "outputs": [
    {
     "data": {
      "text/plain": [
       "[28, 26, 24, 22, 20, 18, 16, 14, 12]"
      ]
     },
     "execution_count": 113,
     "metadata": {},
     "output_type": "execute_result"
    }
   ],
   "source": [
    "nums[-1:0:-1]"
   ]
  },
  {
   "cell_type": "code",
   "execution_count": 105,
   "id": "18cca79c-1cac-4009-ac8f-aa68343372d7",
   "metadata": {},
   "outputs": [
    {
     "data": {
      "text/plain": [
       "[10, 12, 14, 16, 18, 20, 22, 24, 26, 28, 'Tom', 'Dick', 'Harry']"
      ]
     },
     "execution_count": 105,
     "metadata": {},
     "output_type": "execute_result"
    }
   ],
   "source": [
    "nums + names # concatenation operator '+'"
   ]
  },
  {
   "cell_type": "code",
   "execution_count": 104,
   "id": "17ce6fdd-8ec7-4ba8-8521-548914494782",
   "metadata": {},
   "outputs": [
    {
     "data": {
      "text/plain": [
       "[10,\n",
       " 12,\n",
       " 14,\n",
       " 16,\n",
       " 18,\n",
       " 20,\n",
       " 22,\n",
       " 24,\n",
       " 26,\n",
       " 28,\n",
       " 'Tom',\n",
       " 'Dick',\n",
       " 'Harry',\n",
       " [[12, 13, 14, 15], ['Tom', 'Dick', 'Harry']],\n",
       " [1, 4.2, 'hello']]"
      ]
     },
     "execution_count": 104,
     "metadata": {},
     "output_type": "execute_result"
    }
   ],
   "source": [
    "nums + names + lol"
   ]
  },
  {
   "cell_type": "code",
   "execution_count": 106,
   "id": "a5424a95-d471-4170-97aa-581cad4af724",
   "metadata": {},
   "outputs": [
    {
     "data": {
      "text/plain": [
       "'TomDick'"
      ]
     },
     "execution_count": 106,
     "metadata": {},
     "output_type": "execute_result"
    }
   ],
   "source": [
    "names[0] + names[1]  # concatenation for strings!"
   ]
  },
  {
   "cell_type": "code",
   "execution_count": 107,
   "id": "7fabf670-a98c-47fb-b4c1-4eea4728d15a",
   "metadata": {},
   "outputs": [
    {
     "ename": "TypeError",
     "evalue": "unsupported operand type(s) for -: 'list' and 'list'",
     "output_type": "error",
     "traceback": [
      "\u001b[0;31m---------------------------------------------------------------------------\u001b[0m",
      "\u001b[0;31mTypeError\u001b[0m                                 Traceback (most recent call last)",
      "Cell \u001b[0;32mIn[107], line 1\u001b[0m\n\u001b[0;32m----> 1\u001b[0m names \u001b[38;5;241m-\u001b[39m nums\n",
      "\u001b[0;31mTypeError\u001b[0m: unsupported operand type(s) for -: 'list' and 'list'"
     ]
    }
   ],
   "source": [
    "names - nums"
   ]
  },
  {
   "cell_type": "code",
   "execution_count": 108,
   "id": "e6f7347c-4777-495e-86ef-35a564ae6d5b",
   "metadata": {},
   "outputs": [
    {
     "ename": "TypeError",
     "evalue": "can't multiply sequence by non-int of type 'list'",
     "output_type": "error",
     "traceback": [
      "\u001b[0;31m---------------------------------------------------------------------------\u001b[0m",
      "\u001b[0;31mTypeError\u001b[0m                                 Traceback (most recent call last)",
      "Cell \u001b[0;32mIn[108], line 1\u001b[0m\n\u001b[0;32m----> 1\u001b[0m names \u001b[38;5;241m*\u001b[39m nums\n",
      "\u001b[0;31mTypeError\u001b[0m: can't multiply sequence by non-int of type 'list'"
     ]
    }
   ],
   "source": [
    "names * nums"
   ]
  },
  {
   "cell_type": "code",
   "execution_count": 110,
   "id": "59212ec1-4a92-4773-afd3-a356117d5250",
   "metadata": {},
   "outputs": [
    {
     "data": {
      "text/plain": [
       "['Tom', 'Dick', 'Harry', 'Tom', 'Dick', 'Harry', 'Tom', 'Dick', 'Harry']"
      ]
     },
     "execution_count": 110,
     "metadata": {},
     "output_type": "execute_result"
    }
   ],
   "source": [
    "names * 3    # repetition operator"
   ]
  },
  {
   "cell_type": "code",
   "execution_count": 111,
   "id": "42aab2b5-7c7f-4be5-912f-8422c47cae37",
   "metadata": {},
   "outputs": [
    {
     "data": {
      "text/plain": [
       "'hellohellohello'"
      ]
     },
     "execution_count": 111,
     "metadata": {},
     "output_type": "execute_result"
    }
   ],
   "source": [
    "'hello' * 3"
   ]
  },
  {
   "cell_type": "code",
   "execution_count": 118,
   "id": "0ddf57ef-0bca-45e5-b9e7-454677ce9f25",
   "metadata": {},
   "outputs": [
    {
     "data": {
      "text/plain": [
       "36"
      ]
     },
     "execution_count": 118,
     "metadata": {},
     "output_type": "execute_result"
    }
   ],
   "source": [
    "nums[1] * 3"
   ]
  },
  {
   "cell_type": "code",
   "execution_count": 117,
   "id": "5cec72c7-f4dc-4fc5-b853-0bf438b23a54",
   "metadata": {},
   "outputs": [
    {
     "data": {
      "text/plain": [
       "[10, 10, 10]"
      ]
     },
     "execution_count": 117,
     "metadata": {},
     "output_type": "execute_result"
    }
   ],
   "source": [
    "nums[:1] * 3"
   ]
  },
  {
   "cell_type": "code",
   "execution_count": 120,
   "id": "ecc3ba68-b40c-4b00-b953-7f254dd197b5",
   "metadata": {},
   "outputs": [
    {
     "data": {
      "text/plain": [
       "39"
      ]
     },
     "execution_count": 120,
     "metadata": {},
     "output_type": "execute_result"
    }
   ],
   "source": [
    "len((nums + names) * 3)"
   ]
  },
  {
   "cell_type": "code",
   "execution_count": 121,
   "id": "7e0f8323-4de4-4c7a-a396-05fc494747f3",
   "metadata": {},
   "outputs": [
    {
     "data": {
      "text/plain": [
       "[10, 12, 14, 16, 18, 20, 22, 24, 26, 28]"
      ]
     },
     "execution_count": 121,
     "metadata": {},
     "output_type": "execute_result"
    }
   ],
   "source": [
    "nums"
   ]
  },
  {
   "cell_type": "code",
   "execution_count": 123,
   "id": "5683aabc-3c5c-44f4-af4c-98f34b5df865",
   "metadata": {},
   "outputs": [
    {
     "data": {
      "text/plain": [
       "[10, 12, 26, 28]"
      ]
     },
     "execution_count": 123,
     "metadata": {},
     "output_type": "execute_result"
    }
   ],
   "source": [
    "[10,12,26,28]\n",
    "nums[:2] + nums[-2:]"
   ]
  },
  {
   "cell_type": "code",
   "execution_count": 124,
   "id": "04551972-1f83-4b75-bcc4-d6f675a3b10f",
   "metadata": {},
   "outputs": [
    {
     "data": {
      "text/plain": [
       "['Tom', 'Harry']"
      ]
     },
     "execution_count": 124,
     "metadata": {},
     "output_type": "execute_result"
    }
   ],
   "source": [
    "['Tom', 'Harry']\n",
    "names[:1] + names[-1:]"
   ]
  },
  {
   "cell_type": "code",
   "execution_count": 126,
   "id": "ee912d4d-3579-4ac1-90fa-236ffc31aa14",
   "metadata": {},
   "outputs": [
    {
     "data": {
      "text/plain": [
       "'TomHarry'"
      ]
     },
     "execution_count": 126,
     "metadata": {},
     "output_type": "execute_result"
    }
   ],
   "source": [
    "names[0] + names[-1]"
   ]
  },
  {
   "cell_type": "code",
   "execution_count": 128,
   "id": "0997ae66-a5df-44c8-a5f7-8ce8e6ce37c0",
   "metadata": {},
   "outputs": [],
   "source": [
    "nums.append(30)     # in-place operation"
   ]
  },
  {
   "cell_type": "code",
   "execution_count": 129,
   "id": "61a12150-b0dd-4457-884d-30d584029342",
   "metadata": {},
   "outputs": [
    {
     "data": {
      "text/plain": [
       "[10, 12, 14, 16, 18, 20, 22, 24, 26, 28, 30]"
      ]
     },
     "execution_count": 129,
     "metadata": {},
     "output_type": "execute_result"
    }
   ],
   "source": [
    "nums"
   ]
  },
  {
   "cell_type": "code",
   "execution_count": 130,
   "id": "e21d9848-0102-48a6-b24a-529691562114",
   "metadata": {},
   "outputs": [
    {
     "data": {
      "text/plain": [
       "30"
      ]
     },
     "execution_count": 130,
     "metadata": {},
     "output_type": "execute_result"
    }
   ],
   "source": [
    "nums.pop()"
   ]
  },
  {
   "cell_type": "code",
   "execution_count": 131,
   "id": "c44dde17-64c2-40cb-a6ff-04842b740903",
   "metadata": {},
   "outputs": [],
   "source": [
    "first = nums.pop(0)"
   ]
  },
  {
   "cell_type": "code",
   "execution_count": 132,
   "id": "5fefd768-1356-44d6-9895-67d45dbe1186",
   "metadata": {},
   "outputs": [
    {
     "data": {
      "text/plain": [
       "[12, 14, 16, 18, 20, 22, 24, 26, 28]"
      ]
     },
     "execution_count": 132,
     "metadata": {},
     "output_type": "execute_result"
    }
   ],
   "source": [
    "nums"
   ]
  },
  {
   "cell_type": "code",
   "execution_count": 134,
   "id": "65559c1a-d5ce-4eee-a52b-980d1e3a1c27",
   "metadata": {},
   "outputs": [
    {
     "data": {
      "text/plain": [
       "10"
      ]
     },
     "execution_count": 134,
     "metadata": {},
     "output_type": "execute_result"
    }
   ],
   "source": [
    "first"
   ]
  },
  {
   "cell_type": "code",
   "execution_count": 136,
   "id": "e0d47e33-5cf9-4897-9a1e-a9a6ba059bd6",
   "metadata": {},
   "outputs": [
    {
     "data": {
      "text/plain": [
       "0"
      ]
     },
     "execution_count": 136,
     "metadata": {},
     "output_type": "execute_result"
    }
   ],
   "source": [
    "nums.count(28)\n",
    "nums.count(10)"
   ]
  },
  {
   "cell_type": "code",
   "execution_count": 138,
   "id": "241a2b1c-b754-4e1f-9b7e-4d549d488acf",
   "metadata": {},
   "outputs": [
    {
     "ename": "ValueError",
     "evalue": "10 is not in list",
     "output_type": "error",
     "traceback": [
      "\u001b[0;31m---------------------------------------------------------------------------\u001b[0m",
      "\u001b[0;31mValueError\u001b[0m                                Traceback (most recent call last)",
      "Cell \u001b[0;32mIn[138], line 2\u001b[0m\n\u001b[1;32m      1\u001b[0m nums\u001b[38;5;241m.\u001b[39mindex(\u001b[38;5;241m28\u001b[39m)\n\u001b[0;32m----> 2\u001b[0m nums\u001b[38;5;241m.\u001b[39mindex(\u001b[38;5;241m10\u001b[39m)\n",
      "\u001b[0;31mValueError\u001b[0m: 10 is not in list"
     ]
    }
   ],
   "source": [
    "nums.index(28)\n",
    "nums.index(10)"
   ]
  },
  {
   "cell_type": "code",
   "execution_count": 139,
   "id": "b92985b0-deae-4cec-a9e0-284d706b6ad7",
   "metadata": {},
   "outputs": [
    {
     "data": {
      "text/plain": [
       "False"
      ]
     },
     "execution_count": 139,
     "metadata": {},
     "output_type": "execute_result"
    }
   ],
   "source": [
    "10 in nums    # membership operator"
   ]
  },
  {
   "cell_type": "code",
   "execution_count": 141,
   "id": "15f7bf65-db90-4076-9a52-3c87b2273436",
   "metadata": {},
   "outputs": [
    {
     "data": {
      "text/plain": [
       "True"
      ]
     },
     "execution_count": 141,
     "metadata": {},
     "output_type": "execute_result"
    }
   ],
   "source": [
    "28 in nums"
   ]
  },
  {
   "cell_type": "code",
   "execution_count": 142,
   "id": "86c182fa-e889-4bc1-98d2-95f34cdb909b",
   "metadata": {},
   "outputs": [
    {
     "data": {
      "text/plain": [
       "True"
      ]
     },
     "execution_count": 142,
     "metadata": {},
     "output_type": "execute_result"
    }
   ],
   "source": [
    "not (10 in nums)"
   ]
  },
  {
   "cell_type": "code",
   "execution_count": 143,
   "id": "8fb99182-aa10-4421-9031-4f4b0d0e18ff",
   "metadata": {},
   "outputs": [
    {
     "data": {
      "text/plain": [
       "True"
      ]
     },
     "execution_count": 143,
     "metadata": {},
     "output_type": "execute_result"
    }
   ],
   "source": [
    "10 not in nums"
   ]
  },
  {
   "cell_type": "code",
   "execution_count": 144,
   "id": "d9fb9b2a-5576-48e7-a638-f38041e26adc",
   "metadata": {},
   "outputs": [],
   "source": [
    "nums.extend([1,2,3,4])"
   ]
  },
  {
   "cell_type": "code",
   "execution_count": 145,
   "id": "46ca62ba-be7b-410f-afb8-61a9d52eff09",
   "metadata": {},
   "outputs": [
    {
     "data": {
      "text/plain": [
       "[12, 14, 16, 18, 20, 22, 24, 26, 28, 1, 2, 3, 4]"
      ]
     },
     "execution_count": 145,
     "metadata": {},
     "output_type": "execute_result"
    }
   ],
   "source": [
    "nums"
   ]
  },
  {
   "cell_type": "code",
   "execution_count": 146,
   "id": "abaf7093-c32c-4f96-b241-cad7810b81e6",
   "metadata": {},
   "outputs": [
    {
     "data": {
      "text/plain": [
       "[12, 14, 16, 18, 20, 22, 24, 26, 28, 1, 2, 3, 4, [1, 2, 3, 4]]"
      ]
     },
     "execution_count": 146,
     "metadata": {},
     "output_type": "execute_result"
    }
   ],
   "source": [
    "nums.append([1,2,3,4])\n",
    "nums"
   ]
  },
  {
   "cell_type": "code",
   "execution_count": 147,
   "id": "1d4ef353-293c-4e5a-a44a-3a2a0f46c63a",
   "metadata": {},
   "outputs": [
    {
     "ename": "TypeError",
     "evalue": "'int' object is not iterable",
     "output_type": "error",
     "traceback": [
      "\u001b[0;31m---------------------------------------------------------------------------\u001b[0m",
      "\u001b[0;31mTypeError\u001b[0m                                 Traceback (most recent call last)",
      "Cell \u001b[0;32mIn[147], line 1\u001b[0m\n\u001b[0;32m----> 1\u001b[0m nums\u001b[38;5;241m.\u001b[39mextend(\u001b[38;5;241m30\u001b[39m)\n",
      "\u001b[0;31mTypeError\u001b[0m: 'int' object is not iterable"
     ]
    }
   ],
   "source": [
    "nums.extend(30)"
   ]
  },
  {
   "cell_type": "code",
   "execution_count": 148,
   "id": "f78485b7-2802-4c13-999d-d5e642c745ea",
   "metadata": {},
   "outputs": [
    {
     "data": {
      "text/plain": [
       "[12, 14, 16, 18, 20, 22, 24, 26, 28, 1, 2, 3, 4, [1, 2, 3, 4], 't', 'o', 'm']"
      ]
     },
     "execution_count": 148,
     "metadata": {},
     "output_type": "execute_result"
    }
   ],
   "source": [
    "nums.extend('tom')\n",
    "nums"
   ]
  },
  {
   "cell_type": "code",
   "execution_count": 149,
   "id": "0a2251e1-5836-42a2-9799-48e41bd8b82f",
   "metadata": {},
   "outputs": [
    {
     "data": {
      "text/plain": [
       "[100,\n",
       " 12,\n",
       " 14,\n",
       " 16,\n",
       " 18,\n",
       " 20,\n",
       " 22,\n",
       " 24,\n",
       " 26,\n",
       " 28,\n",
       " 1,\n",
       " 2,\n",
       " 3,\n",
       " 4,\n",
       " [1, 2, 3, 4],\n",
       " 't',\n",
       " 'o',\n",
       " 'm']"
      ]
     },
     "execution_count": 149,
     "metadata": {},
     "output_type": "execute_result"
    }
   ],
   "source": [
    "nums.insert(0, 100)\n",
    "nums"
   ]
  },
  {
   "cell_type": "code",
   "execution_count": 150,
   "id": "dba87a41-c478-4c37-8590-05b0890ca3d4",
   "metadata": {},
   "outputs": [],
   "source": [
    "nums.remove(28)"
   ]
  },
  {
   "cell_type": "code",
   "execution_count": 151,
   "id": "640645d1-29e3-40ef-985f-e72fcc30a5a1",
   "metadata": {},
   "outputs": [
    {
     "data": {
      "text/plain": [
       "[100, 12, 14, 16, 18, 20, 22, 24, 26, 1, 2, 3, 4, [1, 2, 3, 4], 't', 'o', 'm']"
      ]
     },
     "execution_count": 151,
     "metadata": {},
     "output_type": "execute_result"
    }
   ],
   "source": [
    "nums"
   ]
  },
  {
   "cell_type": "code",
   "execution_count": 152,
   "id": "f2e29ff9-8710-41fd-903b-5265a4f7bc28",
   "metadata": {},
   "outputs": [
    {
     "ename": "TypeError",
     "evalue": "'<' not supported between instances of 'list' and 'int'",
     "output_type": "error",
     "traceback": [
      "\u001b[0;31m---------------------------------------------------------------------------\u001b[0m",
      "\u001b[0;31mTypeError\u001b[0m                                 Traceback (most recent call last)",
      "Cell \u001b[0;32mIn[152], line 1\u001b[0m\n\u001b[0;32m----> 1\u001b[0m nums\u001b[38;5;241m.\u001b[39msort()\n",
      "\u001b[0;31mTypeError\u001b[0m: '<' not supported between instances of 'list' and 'int'"
     ]
    }
   ],
   "source": [
    "nums.sort()"
   ]
  },
  {
   "cell_type": "code",
   "execution_count": 153,
   "id": "18780329-c693-48b3-8e15-086f6eff74dc",
   "metadata": {},
   "outputs": [],
   "source": [
    "nums.reverse()"
   ]
  },
  {
   "cell_type": "code",
   "execution_count": 154,
   "id": "1d468de4-d004-4c9c-be11-7065ad1fe071",
   "metadata": {},
   "outputs": [
    {
     "data": {
      "text/plain": [
       "['m', 'o', 't', [1, 2, 3, 4], 100, 26, 24, 22, 20, 18, 16, 14, 12, 4, 3, 2, 1]"
      ]
     },
     "execution_count": 154,
     "metadata": {},
     "output_type": "execute_result"
    }
   ],
   "source": [
    "nums"
   ]
  },
  {
   "cell_type": "code",
   "execution_count": 156,
   "id": "f084a456-5bc1-44c5-befa-8ff524f421e1",
   "metadata": {},
   "outputs": [
    {
     "data": {
      "text/plain": [
       "3"
      ]
     },
     "execution_count": 156,
     "metadata": {},
     "output_type": "execute_result"
    }
   ],
   "source": [
    "idx = nums.index([1,2,3,4])\n",
    "idx"
   ]
  },
  {
   "cell_type": "code",
   "execution_count": null,
   "id": "0854f346-018e-44f5-ad75-7102b26a5587",
   "metadata": {},
   "outputs": [],
   "source": [
    "nums.pop(idx)"
   ]
  },
  {
   "cell_type": "code",
   "execution_count": 157,
   "id": "9aa1139c-d755-48bc-914d-0f480aba2806",
   "metadata": {},
   "outputs": [
    {
     "data": {
      "text/plain": [
       "['m', 'o', 't', 100, 26, 24, 22, 20, 18, 16, 14, 12, 4, 3, 2, 1]"
      ]
     },
     "execution_count": 157,
     "metadata": {},
     "output_type": "execute_result"
    }
   ],
   "source": [
    "nums.remove([1,2,3,4])\n",
    "nums"
   ]
  },
  {
   "cell_type": "markdown",
   "id": "de9131b0-c862-436d-996c-46a21a37f651",
   "metadata": {},
   "source": [
    "### Exercises\n",
    "\n",
    "1. Create a list `nums` of values `[12,15,18,21,...30]`\n",
    "2. How many elements?\n",
    "3. Right-Rotate the list once  ([30,12,15,....,27])"
   ]
  },
  {
   "cell_type": "code",
   "execution_count": 158,
   "id": "625e032b-c06a-4b08-a946-39a35c19d29d",
   "metadata": {},
   "outputs": [
    {
     "data": {
      "text/plain": [
       "[12, 15, 18, 21, 24, 27, 30]"
      ]
     },
     "execution_count": 158,
     "metadata": {},
     "output_type": "execute_result"
    }
   ],
   "source": [
    "nums = list(range(12,31,3))\n",
    "nums"
   ]
  },
  {
   "cell_type": "code",
   "execution_count": 159,
   "id": "1042d90d-ca86-4688-9470-c8682d25fa31",
   "metadata": {},
   "outputs": [
    {
     "data": {
      "text/plain": [
       "7"
      ]
     },
     "execution_count": 159,
     "metadata": {},
     "output_type": "execute_result"
    }
   ],
   "source": [
    "len(nums)"
   ]
  },
  {
   "cell_type": "code",
   "execution_count": 160,
   "id": "88c62b22-e876-46b5-8f2b-bc8d8fc6bab2",
   "metadata": {},
   "outputs": [
    {
     "data": {
      "text/plain": [
       "[30, 12, 15, 18, 21, 24, 27]"
      ]
     },
     "execution_count": 160,
     "metadata": {},
     "output_type": "execute_result"
    }
   ],
   "source": [
    "nums[-1:] + nums[:-1]"
   ]
  },
  {
   "cell_type": "code",
   "execution_count": 167,
   "id": "c5e52c06-dc59-406c-a38a-57ddb2af7ab9",
   "metadata": {},
   "outputs": [
    {
     "data": {
      "text/plain": [
       "[12, 15, 18, 21, 24, 27, 30]"
      ]
     },
     "execution_count": 167,
     "metadata": {},
     "output_type": "execute_result"
    }
   ],
   "source": [
    "last = nums.pop()\n",
    "nums.insert(0, last)\n",
    "nums"
   ]
  },
  {
   "cell_type": "markdown",
   "id": "f2cb2a33-eaa9-43fc-be33-4be0360264ef",
   "metadata": {},
   "source": [
    "### Loops"
   ]
  },
  {
   "cell_type": "code",
   "execution_count": null,
   "id": "5440ee07-4782-4f4f-8be8-b0e1cbf27d02",
   "metadata": {},
   "outputs": [],
   "source": [
    "# Indexed iteration not available (by default) in python\n",
    "\n",
    "# arr[10] = \n",
    "# for (i=0; i<10; i++) {\n",
    "#     arr[i]\n",
    "# }"
   ]
  },
  {
   "cell_type": "code",
   "execution_count": 175,
   "id": "ee700a14-3a21-4b78-9351-6654f6bc9e3b",
   "metadata": {},
   "outputs": [
    {
     "name": "stdout",
     "output_type": "stream",
     "text": [
      "12\n",
      "15\n",
      "18\n",
      "21\n",
      "24\n",
      "27\n",
      "30\n",
      "900\n"
     ]
    }
   ],
   "source": [
    "# foreach loop\n",
    "total = 0\n",
    "for num in nums:\n",
    "    print(num)\n",
    "    total += num\n",
    "\n",
    "\n",
    "print(num**2)"
   ]
  },
  {
   "cell_type": "code",
   "execution_count": 171,
   "id": "37c157f2-1758-418b-9794-099597403d6e",
   "metadata": {},
   "outputs": [
    {
     "data": {
      "text/plain": [
       "147"
      ]
     },
     "execution_count": 171,
     "metadata": {},
     "output_type": "execute_result"
    }
   ],
   "source": [
    "total"
   ]
  },
  {
   "cell_type": "code",
   "execution_count": 176,
   "id": "b325f3ac-9de5-40a5-84b4-cc7183c6793a",
   "metadata": {},
   "outputs": [
    {
     "name": "stdout",
     "output_type": "stream",
     "text": [
      "Hello\n",
      "Hello\n",
      "Hello\n",
      "Hello\n",
      "Hello\n",
      "Hello\n",
      "Hello\n",
      "Hello\n",
      "Hello\n",
      "Hello\n"
     ]
    }
   ],
   "source": [
    "for _ in range(10):\n",
    "    print('Hello')"
   ]
  },
  {
   "cell_type": "code",
   "execution_count": 178,
   "id": "42b2748d-5bd4-4268-96eb-bb988bff7892",
   "metadata": {},
   "outputs": [
    {
     "name": "stdout",
     "output_type": "stream",
     "text": [
      "12\n",
      "15\n",
      "18\n",
      "21\n",
      "24\n",
      "27\n",
      "30\n"
     ]
    }
   ],
   "source": [
    "# simulated indexed iteration\n",
    "for i in range(len(nums)):\n",
    "    print(nums[i])"
   ]
  },
  {
   "cell_type": "markdown",
   "id": "697609fc-191e-4fb2-a84a-5bea823014cb",
   "metadata": {},
   "source": [
    "### Exercises\n",
    "\n",
    "1. Sum of squares of numbers in nums\n",
    "2. Right rotate nums 3 times"
   ]
  },
  {
   "cell_type": "code",
   "execution_count": null,
   "id": "e40e58d2-fe39-4474-9747-cdbbb29f305c",
   "metadata": {},
   "outputs": [],
   "source": [
    "12**2 + 15**2 + .. + 30**2"
   ]
  },
  {
   "cell_type": "code",
   "execution_count": null,
   "id": "fcd30cda-697f-43f1-91a4-91b94587a1d0",
   "metadata": {},
   "outputs": [],
   "source": [
    "[12,15,18,...30]"
   ]
  },
  {
   "cell_type": "code",
   "execution_count": null,
   "id": "c3eb78dc-53de-462b-912b-52a9140e3905",
   "metadata": {},
   "outputs": [],
   "source": [
    "[24,27,30,12, ...,21]"
   ]
  },
  {
   "cell_type": "code",
   "execution_count": 179,
   "id": "7b41d83b-b3e0-4749-a319-ac70f51475d1",
   "metadata": {},
   "outputs": [
    {
     "data": {
      "text/plain": [
       "3339"
      ]
     },
     "execution_count": 179,
     "metadata": {},
     "output_type": "execute_result"
    }
   ],
   "source": [
    "sumofsqs = 0\n",
    "for num in nums:\n",
    "    # sumofsqs = sumofsqs + num ** 2\n",
    "    sumofsqs += num ** 2\n",
    "\n",
    "sumofsqs"
   ]
  },
  {
   "cell_type": "code",
   "execution_count": null,
   "id": "be9a2817-33f8-4987-99c9-1644100839ce",
   "metadata": {},
   "outputs": [],
   "source": []
  },
  {
   "cell_type": "code",
   "execution_count": 192,
   "id": "9f3ee316-50b3-4d1c-b04e-0fffe8abdb3c",
   "metadata": {},
   "outputs": [
    {
     "data": {
      "text/plain": [
       "[30, 12, 15, 18, 21, 24, 27]"
      ]
     },
     "execution_count": 192,
     "metadata": {},
     "output_type": "execute_result"
    }
   ],
   "source": [
    "nums = list(range(12,31,3))\n",
    "\n",
    "n = 7000000000000001\n",
    "n = n % len(nums)\n",
    "for _ in range(n):\n",
    "    last = nums.pop()\n",
    "    nums.insert(0, last)\n",
    "\n",
    "nums"
   ]
  },
  {
   "cell_type": "code",
   "execution_count": 186,
   "id": "af43393d-8c57-403e-a65a-904e07d77a01",
   "metadata": {},
   "outputs": [],
   "source": [
    "n = 8972485789724350879234587908792435897032457"
   ]
  },
  {
   "cell_type": "code",
   "execution_count": 187,
   "id": "329d024a-7e68-4898-bae7-d253be2cdb2f",
   "metadata": {},
   "outputs": [
    {
     "data": {
      "text/plain": [
       "int"
      ]
     },
     "execution_count": 187,
     "metadata": {},
     "output_type": "execute_result"
    }
   ],
   "source": [
    "type(n)"
   ]
  },
  {
   "cell_type": "code",
   "execution_count": 188,
   "id": "cc438bde-c416-429f-ab0d-91d3ec030dd8",
   "metadata": {},
   "outputs": [
    {
     "data": {
      "text/plain": [
       "8972485789724350879234587908792435897032458"
      ]
     },
     "execution_count": 188,
     "metadata": {},
     "output_type": "execute_result"
    }
   ],
   "source": [
    "n + 1"
   ]
  },
  {
   "cell_type": "markdown",
   "id": "c3953a6d-3aee-4620-85e6-8156941bacf7",
   "metadata": {},
   "source": [
    "### Sets\n",
    "\n",
    "    Unordered collection of unique items\n",
    "\n",
    "- Membership"
   ]
  },
  {
   "cell_type": "code",
   "execution_count": 200,
   "id": "519a1329-a59f-412b-ad9e-d8108f629a93",
   "metadata": {},
   "outputs": [],
   "source": [
    "threes = {3,9,6,15,12,3,6,12,15}\n",
    "twos = {10,12,2,6,18,20}"
   ]
  },
  {
   "cell_type": "code",
   "execution_count": 199,
   "id": "21c9331e-5534-4760-ac4a-73658374cf5c",
   "metadata": {},
   "outputs": [
    {
     "data": {
      "text/plain": [
       "{3, 6, 9, 12, 15}"
      ]
     },
     "execution_count": 199,
     "metadata": {},
     "output_type": "execute_result"
    }
   ],
   "source": [
    "threes"
   ]
  },
  {
   "cell_type": "code",
   "execution_count": 201,
   "id": "764ed45f-504f-4cb5-9f44-a97dcbc8c110",
   "metadata": {},
   "outputs": [
    {
     "data": {
      "text/plain": [
       "{2, 6, 10, 12, 18, 20}"
      ]
     },
     "execution_count": 201,
     "metadata": {},
     "output_type": "execute_result"
    }
   ],
   "source": [
    "twos"
   ]
  },
  {
   "cell_type": "code",
   "execution_count": 195,
   "id": "cbab9cb5-3940-418a-a76d-efcce178dfab",
   "metadata": {},
   "outputs": [
    {
     "ename": "TypeError",
     "evalue": "'set' object is not subscriptable",
     "output_type": "error",
     "traceback": [
      "\u001b[0;31m---------------------------------------------------------------------------\u001b[0m",
      "\u001b[0;31mTypeError\u001b[0m                                 Traceback (most recent call last)",
      "Cell \u001b[0;32mIn[195], line 1\u001b[0m\n\u001b[0;32m----> 1\u001b[0m threes[\u001b[38;5;241m0\u001b[39m]\n",
      "\u001b[0;31mTypeError\u001b[0m: 'set' object is not subscriptable"
     ]
    }
   ],
   "source": [
    "threes[0]"
   ]
  },
  {
   "cell_type": "code",
   "execution_count": null,
   "id": "f9278aa3-9bb4-4678-b022-ec13e51407b9",
   "metadata": {},
   "outputs": [],
   "source": []
  },
  {
   "cell_type": "code",
   "execution_count": 197,
   "id": "4d3fd659-3597-481b-82c7-4743ff2d1825",
   "metadata": {},
   "outputs": [
    {
     "data": {
      "text/plain": [
       "[3, 6, 9, 12, 15]"
      ]
     },
     "execution_count": 197,
     "metadata": {},
     "output_type": "execute_result"
    }
   ],
   "source": [
    "threes = [3,9,6,15,12,3,6,12,15]\n",
    "list(set(threes))"
   ]
  },
  {
   "cell_type": "code",
   "execution_count": 202,
   "id": "b328fbfa-aa2b-46a4-81c1-2ccd400d8026",
   "metadata": {},
   "outputs": [
    {
     "ename": "TypeError",
     "evalue": "unsupported operand type(s) for +: 'set' and 'set'",
     "output_type": "error",
     "traceback": [
      "\u001b[0;31m---------------------------------------------------------------------------\u001b[0m",
      "\u001b[0;31mTypeError\u001b[0m                                 Traceback (most recent call last)",
      "Cell \u001b[0;32mIn[202], line 1\u001b[0m\n\u001b[0;32m----> 1\u001b[0m threes \u001b[38;5;241m+\u001b[39m twos\n",
      "\u001b[0;31mTypeError\u001b[0m: unsupported operand type(s) for +: 'set' and 'set'"
     ]
    }
   ],
   "source": [
    "threes + twos"
   ]
  },
  {
   "cell_type": "code",
   "execution_count": 203,
   "id": "7cfca06f-36b6-4b90-a98f-a244f0110246",
   "metadata": {},
   "outputs": [
    {
     "data": {
      "text/plain": [
       "{3, 9, 15}"
      ]
     },
     "execution_count": 203,
     "metadata": {},
     "output_type": "execute_result"
    }
   ],
   "source": [
    "threes - twos"
   ]
  },
  {
   "cell_type": "code",
   "execution_count": 204,
   "id": "ac510408-ac2b-436e-a3a1-7179d7fa5ae8",
   "metadata": {},
   "outputs": [
    {
     "data": {
      "text/plain": [
       "{2, 10, 18, 20}"
      ]
     },
     "execution_count": 204,
     "metadata": {},
     "output_type": "execute_result"
    }
   ],
   "source": [
    "twos - threes"
   ]
  },
  {
   "cell_type": "code",
   "execution_count": 205,
   "id": "6a81236f-2956-4e30-b756-332fa0977542",
   "metadata": {},
   "outputs": [
    {
     "ename": "TypeError",
     "evalue": "unsupported operand type(s) for *: 'set' and 'set'",
     "output_type": "error",
     "traceback": [
      "\u001b[0;31m---------------------------------------------------------------------------\u001b[0m",
      "\u001b[0;31mTypeError\u001b[0m                                 Traceback (most recent call last)",
      "Cell \u001b[0;32mIn[205], line 1\u001b[0m\n\u001b[0;32m----> 1\u001b[0m threes \u001b[38;5;241m*\u001b[39m twos\n",
      "\u001b[0;31mTypeError\u001b[0m: unsupported operand type(s) for *: 'set' and 'set'"
     ]
    }
   ],
   "source": [
    "threes * twos"
   ]
  },
  {
   "cell_type": "code",
   "execution_count": 206,
   "id": "dde2b597-977f-4836-9b8b-012e716758f8",
   "metadata": {},
   "outputs": [
    {
     "data": {
      "text/plain": [
       "{2, 6, 10, 12, 18, 20}"
      ]
     },
     "execution_count": 206,
     "metadata": {},
     "output_type": "execute_result"
    }
   ],
   "source": [
    "twos.add(12)\n",
    "twos"
   ]
  },
  {
   "cell_type": "code",
   "execution_count": 207,
   "id": "08d0edf9-94b5-4e5b-b339-9d240ff1b701",
   "metadata": {},
   "outputs": [
    {
     "data": {
      "text/plain": [
       "{3, 6, 9, 12, 15, 18}"
      ]
     },
     "execution_count": 207,
     "metadata": {},
     "output_type": "execute_result"
    }
   ],
   "source": [
    "threes.add(18)\n",
    "threes"
   ]
  },
  {
   "cell_type": "code",
   "execution_count": 208,
   "id": "72840b5f-8461-4139-b9c1-a7885f68a3dd",
   "metadata": {},
   "outputs": [
    {
     "data": {
      "text/plain": [
       "{3, 9, 15}"
      ]
     },
     "execution_count": 208,
     "metadata": {},
     "output_type": "execute_result"
    }
   ],
   "source": [
    "threes.difference(twos)"
   ]
  },
  {
   "cell_type": "code",
   "execution_count": 209,
   "id": "b0ae2de8-64b9-4c89-a62f-1874b86238fe",
   "metadata": {},
   "outputs": [
    {
     "data": {
      "text/plain": [
       "{2, 3, 6, 9, 10, 12, 15, 18, 20}"
      ]
     },
     "execution_count": 209,
     "metadata": {},
     "output_type": "execute_result"
    }
   ],
   "source": [
    "threes.union(twos)\n",
    "twos.union(threes)    # symmetric"
   ]
  },
  {
   "cell_type": "code",
   "execution_count": 211,
   "id": "878d61cd-6e5b-4a64-9b13-69e4dd0d5619",
   "metadata": {},
   "outputs": [
    {
     "data": {
      "text/plain": [
       "{6, 12, 18}"
      ]
     },
     "execution_count": 211,
     "metadata": {},
     "output_type": "execute_result"
    }
   ],
   "source": [
    "threes.intersection(twos)"
   ]
  },
  {
   "cell_type": "code",
   "execution_count": 212,
   "id": "120f348b-91fe-4a0e-93ef-48994b3e0ec8",
   "metadata": {},
   "outputs": [
    {
     "data": {
      "text/plain": [
       "{2, 6, 10, 12, 18, 20}"
      ]
     },
     "execution_count": 212,
     "metadata": {},
     "output_type": "execute_result"
    }
   ],
   "source": [
    "threes and twos    # not performing intersection;"
   ]
  },
  {
   "cell_type": "code",
   "execution_count": 213,
   "id": "1e6f5add-40a4-4916-abea-48b42b46cea1",
   "metadata": {},
   "outputs": [
    {
     "data": {
      "text/plain": [
       "{6, 12, 18}"
      ]
     },
     "execution_count": 213,
     "metadata": {},
     "output_type": "execute_result"
    }
   ],
   "source": [
    "threes & twos    # bit-wise operators work as equivalent intersection/union/inversion"
   ]
  },
  {
   "cell_type": "code",
   "execution_count": 214,
   "id": "ced67fe0-5109-49d9-b059-165727d51b20",
   "metadata": {},
   "outputs": [
    {
     "data": {
      "text/plain": [
       "{2, 3, 6, 9, 10, 12, 15, 18, 20}"
      ]
     },
     "execution_count": 214,
     "metadata": {},
     "output_type": "execute_result"
    }
   ],
   "source": [
    "threes | twos"
   ]
  },
  {
   "cell_type": "code",
   "execution_count": 216,
   "id": "c31f00e4-9b50-46e4-bd67-79301027856e",
   "metadata": {},
   "outputs": [
    {
     "name": "stdout",
     "output_type": "stream",
     "text": [
      "2\n",
      "18\n",
      "20\n",
      "6\n",
      "10\n",
      "12\n"
     ]
    }
   ],
   "source": [
    "for two in twos:\n",
    "    print(two)"
   ]
  },
  {
   "cell_type": "code",
   "execution_count": 217,
   "id": "b22e6ef0-913b-4b24-9038-a9019a7ba265",
   "metadata": {},
   "outputs": [
    {
     "ename": "TypeError",
     "evalue": "'set' object is not subscriptable",
     "output_type": "error",
     "traceback": [
      "\u001b[0;31m---------------------------------------------------------------------------\u001b[0m",
      "\u001b[0;31mTypeError\u001b[0m                                 Traceback (most recent call last)",
      "Cell \u001b[0;32mIn[217], line 1\u001b[0m\n\u001b[0;32m----> 1\u001b[0m twos[\u001b[38;5;241m0\u001b[39m]\n",
      "\u001b[0;31mTypeError\u001b[0m: 'set' object is not subscriptable"
     ]
    }
   ],
   "source": [
    "twos[0]"
   ]
  },
  {
   "cell_type": "code",
   "execution_count": 218,
   "id": "e5fcec7f-ba8d-4c36-b6e4-23605bfb2d32",
   "metadata": {},
   "outputs": [],
   "source": [
    "nums = [1,2,3,4]"
   ]
  },
  {
   "cell_type": "code",
   "execution_count": 219,
   "id": "69ed9344-8ef9-4461-9551-9bf23d9c4a6d",
   "metadata": {},
   "outputs": [],
   "source": [
    "nums = (1,2,3,4)"
   ]
  },
  {
   "cell_type": "code",
   "execution_count": 220,
   "id": "dbd69c2e-0265-4f6c-9e28-fe33dc695adb",
   "metadata": {},
   "outputs": [
    {
     "data": {
      "text/plain": [
       "tuple"
      ]
     },
     "execution_count": 220,
     "metadata": {},
     "output_type": "execute_result"
    }
   ],
   "source": [
    "type(nums)"
   ]
  },
  {
   "cell_type": "code",
   "execution_count": null,
   "id": "4b10d824-20bc-4c27-8e5d-3313f78404e8",
   "metadata": {},
   "outputs": [],
   "source": [
    "nums."
   ]
  },
  {
   "cell_type": "code",
   "execution_count": null,
   "id": "a7b62122-e601-4e4c-a312-8e687e60c542",
   "metadata": {},
   "outputs": [],
   "source": [
    "list."
   ]
  },
  {
   "cell_type": "markdown",
   "id": "7756e1c9-1c53-4622-8237-8a804da0b49c",
   "metadata": {},
   "source": [
    "### Mutability / immutability"
   ]
  },
  {
   "cell_type": "code",
   "execution_count": 221,
   "id": "aff06c40-8064-45a9-9afa-de3726e9c3bd",
   "metadata": {},
   "outputs": [
    {
     "data": {
      "text/plain": [
       "tuple"
      ]
     },
     "execution_count": 221,
     "metadata": {},
     "output_type": "execute_result"
    }
   ],
   "source": [
    "t = (1,2,3)\n",
    "type(t)"
   ]
  },
  {
   "cell_type": "code",
   "execution_count": 222,
   "id": "62b9f2a6-9975-44c1-a0f5-8b7f34a7812b",
   "metadata": {},
   "outputs": [
    {
     "data": {
      "text/plain": [
       "1"
      ]
     },
     "execution_count": 222,
     "metadata": {},
     "output_type": "execute_result"
    }
   ],
   "source": [
    "t[0]"
   ]
  },
  {
   "cell_type": "code",
   "execution_count": 225,
   "id": "960ac019-dfe3-4adf-ba47-8a8b552e33d4",
   "metadata": {},
   "outputs": [
    {
     "data": {
      "text/plain": [
       "(1, 2)"
      ]
     },
     "execution_count": 225,
     "metadata": {},
     "output_type": "execute_result"
    }
   ],
   "source": [
    "t[:-1]"
   ]
  },
  {
   "cell_type": "code",
   "execution_count": 226,
   "id": "0c3c75f5-79d5-4958-9f5d-3127f65bc6d9",
   "metadata": {},
   "outputs": [
    {
     "data": {
      "text/plain": [
       "3"
      ]
     },
     "execution_count": 226,
     "metadata": {},
     "output_type": "execute_result"
    }
   ],
   "source": [
    "len(t)"
   ]
  },
  {
   "cell_type": "code",
   "execution_count": 227,
   "id": "522a78e7-bbc3-4b99-9a4e-5f59e4f0fe55",
   "metadata": {},
   "outputs": [
    {
     "ename": "TypeError",
     "evalue": "'tuple' object does not support item assignment",
     "output_type": "error",
     "traceback": [
      "\u001b[0;31m---------------------------------------------------------------------------\u001b[0m",
      "\u001b[0;31mTypeError\u001b[0m                                 Traceback (most recent call last)",
      "Cell \u001b[0;32mIn[227], line 1\u001b[0m\n\u001b[0;32m----> 1\u001b[0m t[\u001b[38;5;241m0\u001b[39m] \u001b[38;5;241m=\u001b[39m \u001b[38;5;241m100\u001b[39m\n",
      "\u001b[0;31mTypeError\u001b[0m: 'tuple' object does not support item assignment"
     ]
    }
   ],
   "source": [
    "t[0] = 100"
   ]
  },
  {
   "cell_type": "code",
   "execution_count": 228,
   "id": "eeae157a-a128-4d6f-b727-c0548a516e26",
   "metadata": {},
   "outputs": [
    {
     "data": {
      "text/plain": [
       "(1, 2, 3, 4, 5)"
      ]
     },
     "execution_count": 228,
     "metadata": {},
     "output_type": "execute_result"
    }
   ],
   "source": [
    "t + (4,5)"
   ]
  },
  {
   "cell_type": "code",
   "execution_count": 229,
   "id": "e4d31a33-c983-42ec-a22f-df2bb99bba6e",
   "metadata": {},
   "outputs": [],
   "source": [
    "t += (4,5)"
   ]
  },
  {
   "cell_type": "code",
   "execution_count": 230,
   "id": "7d22fdc4-ad53-4234-ab47-87d814324906",
   "metadata": {},
   "outputs": [
    {
     "data": {
      "text/plain": [
       "(1, 2, 3, 4, 5)"
      ]
     },
     "execution_count": 230,
     "metadata": {},
     "output_type": "execute_result"
    }
   ],
   "source": [
    "t"
   ]
  },
  {
   "cell_type": "code",
   "execution_count": 231,
   "id": "944db8d3-fb18-482f-ab2b-635847a21f9e",
   "metadata": {},
   "outputs": [],
   "source": [
    "t = (1,2,3)"
   ]
  },
  {
   "cell_type": "code",
   "execution_count": 232,
   "id": "d1ab768f-a80b-45d2-97da-e197e4b38a55",
   "metadata": {},
   "outputs": [
    {
     "data": {
      "text/plain": [
       "4630282304"
      ]
     },
     "execution_count": 232,
     "metadata": {},
     "output_type": "execute_result"
    }
   ],
   "source": [
    "id(t)"
   ]
  },
  {
   "cell_type": "code",
   "execution_count": 233,
   "id": "ad2fc6fb-0322-4f85-84a5-5036ce51a3fe",
   "metadata": {},
   "outputs": [],
   "source": [
    "t += (4,5)"
   ]
  },
  {
   "cell_type": "code",
   "execution_count": 234,
   "id": "55733a32-741f-42ca-a20c-2ef14cb54782",
   "metadata": {},
   "outputs": [
    {
     "data": {
      "text/plain": [
       "4629909872"
      ]
     },
     "execution_count": 234,
     "metadata": {},
     "output_type": "execute_result"
    }
   ],
   "source": [
    "id(t)"
   ]
  },
  {
   "cell_type": "code",
   "execution_count": 235,
   "id": "43e255f5-5a3a-4068-951d-614529b4beb8",
   "metadata": {},
   "outputs": [
    {
     "data": {
      "text/plain": [
       "4627109184"
      ]
     },
     "execution_count": 235,
     "metadata": {},
     "output_type": "execute_result"
    }
   ],
   "source": [
    "nums = [1,2,3]\n",
    "id(nums)"
   ]
  },
  {
   "cell_type": "code",
   "execution_count": 236,
   "id": "65fbbf18-0c1c-498d-8107-d71525a6ac5d",
   "metadata": {},
   "outputs": [
    {
     "data": {
      "text/plain": [
       "4627109184"
      ]
     },
     "execution_count": 236,
     "metadata": {},
     "output_type": "execute_result"
    }
   ],
   "source": [
    "nums.append(4)\n",
    "id(nums)"
   ]
  },
  {
   "cell_type": "code",
   "execution_count": 237,
   "id": "3b0e1695-d7f8-4b6b-8762-c1fc9bc557c0",
   "metadata": {},
   "outputs": [
    {
     "data": {
      "text/plain": [
       "4627109184"
      ]
     },
     "execution_count": 237,
     "metadata": {},
     "output_type": "execute_result"
    }
   ],
   "source": [
    "nums += [5,6]\n",
    "# nums.extend([5,6])    # same as above\n",
    "id(nums)"
   ]
  },
  {
   "cell_type": "code",
   "execution_count": null,
   "id": "47b473c3-115e-4e9a-96f7-0fad33c06f28",
   "metadata": {},
   "outputs": [],
   "source": []
  }
 ],
 "metadata": {
  "kernelspec": {
   "display_name": "Python 3 (ipykernel)",
   "language": "python",
   "name": "python3"
  },
  "language_info": {
   "codemirror_mode": {
    "name": "ipython",
    "version": 3
   },
   "file_extension": ".py",
   "mimetype": "text/x-python",
   "name": "python",
   "nbconvert_exporter": "python",
   "pygments_lexer": "ipython3",
   "version": "3.11.0"
  }
 },
 "nbformat": 4,
 "nbformat_minor": 5
}

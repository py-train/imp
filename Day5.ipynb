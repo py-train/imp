{
 "cells": [
  {
   "cell_type": "markdown",
   "id": "5770f0e2-6f8a-47f8-9a6b-2a7b0e959c46",
   "metadata": {},
   "source": [
    "# Day 5\n",
    "\n",
    "Agenda\n",
    "\n",
    "- Flask\n",
    "- Logging++\n",
    "- Django"
   ]
  },
  {
   "cell_type": "code",
   "execution_count": 1,
   "id": "8dc3097e-130d-47f0-bd85-3c8a6c95adef",
   "metadata": {},
   "outputs": [
    {
     "name": "stdout",
     "output_type": "stream",
     "text": [
      "The Zen of Python, by Tim Peters\n",
      "\n",
      "Beautiful is better than ugly.\n",
      "Explicit is better than implicit.\n",
      "Simple is better than complex.\n",
      "Complex is better than complicated.\n",
      "Flat is better than nested.\n",
      "Sparse is better than dense.\n",
      "Readability counts.\n",
      "Special cases aren't special enough to break the rules.\n",
      "Although practicality beats purity.\n",
      "Errors should never pass silently.\n",
      "Unless explicitly silenced.\n",
      "In the face of ambiguity, refuse the temptation to guess.\n",
      "There should be one-- and preferably only one --obvious way to do it.\n",
      "Although that way may not be obvious at first unless you're Dutch.\n",
      "Now is better than never.\n",
      "Although never is often better than *right* now.\n",
      "If the implementation is hard to explain, it's a bad idea.\n",
      "If the implementation is easy to explain, it may be a good idea.\n",
      "Namespaces are one honking great idea -- let's do more of those!\n"
     ]
    }
   ],
   "source": [
    "import this"
   ]
  },
  {
   "cell_type": "code",
   "execution_count": 2,
   "id": "3e2b30dd-55cb-4e6b-93be-4c9f4b98cca9",
   "metadata": {},
   "outputs": [],
   "source": [
    "from jinja2 import Template"
   ]
  },
  {
   "cell_type": "code",
   "execution_count": 3,
   "id": "2c48d397-442e-44ad-bfd5-06c1c18d5902",
   "metadata": {},
   "outputs": [
    {
     "data": {
      "text/plain": [
       "<Template memory:104b94b90>"
      ]
     },
     "execution_count": 3,
     "metadata": {},
     "output_type": "execute_result"
    }
   ],
   "source": [
    "t = Template('Hello {{name}}, Good {{timeofday}}!')\n",
    "t"
   ]
  },
  {
   "cell_type": "code",
   "execution_count": 4,
   "id": "8083b2ef-60d2-43b8-a04a-52c92bb14e36",
   "metadata": {},
   "outputs": [
    {
     "data": {
      "text/plain": [
       "'Hello Ankit, Good Morning!'"
      ]
     },
     "execution_count": 4,
     "metadata": {},
     "output_type": "execute_result"
    }
   ],
   "source": [
    "t.render({'name': 'Ankit', 'timeofday': 'Morning'})"
   ]
  },
  {
   "cell_type": "code",
   "execution_count": null,
   "id": "5065f43d-7394-4be5-bc4c-e53ff2075f69",
   "metadata": {},
   "outputs": [],
   "source": []
  }
 ],
 "metadata": {
  "kernelspec": {
   "display_name": "Python 3 (ipykernel)",
   "language": "python",
   "name": "python3"
  },
  "language_info": {
   "codemirror_mode": {
    "name": "ipython",
    "version": 3
   },
   "file_extension": ".py",
   "mimetype": "text/x-python",
   "name": "python",
   "nbconvert_exporter": "python",
   "pygments_lexer": "ipython3",
   "version": "3.11.0"
  }
 },
 "nbformat": 4,
 "nbformat_minor": 5
}

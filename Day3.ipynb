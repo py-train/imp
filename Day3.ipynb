{
 "cells": [
  {
   "cell_type": "markdown",
   "id": "1871f04f-a478-460e-9450-c5d826692e29",
   "metadata": {},
   "source": [
    "### Object Orientation: classes in python\n",
    "\n",
    "- Objects\n",
    "- Methods\n",
    "- Attributes\n",
    "- Inheritance??\n",
    "- Overloading??\n",
    "- Meta *"
   ]
  },
  {
   "cell_type": "code",
   "execution_count": 1,
   "id": "4b1e5f5e-9841-4125-8240-fd1ca2351494",
   "metadata": {},
   "outputs": [],
   "source": [
    "def read_file(fpath):\n",
    "    ...\n",
    "    return None"
   ]
  },
  {
   "cell_type": "code",
   "execution_count": 7,
   "id": "6e28310a-7f31-4d1a-b158-afd79c75b94c",
   "metadata": {},
   "outputs": [],
   "source": [
    "class Stack:\n",
    "    d2 = []    # static class data: one instance per class (not per object)!\n",
    "    def __init__(self):     # dunder init : constructor\n",
    "        self.data = []\n",
    "    \n",
    "    def push(self, val):\n",
    "        self.data.append(val)\n",
    "\n",
    "    def pop(self):\n",
    "        val = self.data.pop()\n",
    "        return val"
   ]
  },
  {
   "cell_type": "code",
   "execution_count": 8,
   "id": "64b7fe0d-13c0-45ef-be6c-fae56df31fe1",
   "metadata": {},
   "outputs": [],
   "source": [
    "mystack = Stack()\n",
    "mystack.push(10)\n",
    "val = mystack.pop()\n",
    "mystack.d2.append("
   ]
  },
  {
   "cell_type": "code",
   "execution_count": 9,
   "id": "bf8613f9-fdb0-4263-a777-5cb38e4d346d",
   "metadata": {},
   "outputs": [],
   "source": [
    "urstack = Stack()\n",
    "urstack.push(20)\n",
    "urstack.d2"
   ]
  },
  {
   "cell_type": "code",
   "execution_count": 10,
   "id": "ec006c60-bceb-4a78-86fc-a47bcc5287ca",
   "metadata": {},
   "outputs": [
    {
     "data": {
      "text/plain": [
       "[]"
      ]
     },
     "execution_count": 10,
     "metadata": {},
     "output_type": "execute_result"
    }
   ],
   "source": [
    "mystack.data"
   ]
  },
  {
   "cell_type": "code",
   "execution_count": 11,
   "id": "b4b19b89-3207-47e2-8d31-130bb02e66d9",
   "metadata": {},
   "outputs": [
    {
     "data": {
      "text/plain": [
       "[20]"
      ]
     },
     "execution_count": 11,
     "metadata": {},
     "output_type": "execute_result"
    }
   ],
   "source": [
    "urstack.data"
   ]
  },
  {
   "cell_type": "code",
   "execution_count": 12,
   "id": "7f9d4e4b-6e1c-46b8-b63b-6fd754c48f1c",
   "metadata": {},
   "outputs": [],
   "source": [
    "class BankAccount:\n",
    "    d2 = ''\n",
    "    def withdraw_money_from(self):\n",
    "        ...\n",
    "    def withdrawMoneyFrom(self):\n",
    "        ..."
   ]
  },
  {
   "cell_type": "code",
   "execution_count": 13,
   "id": "21617aac-cf64-4097-8e7b-4d82c89049c2",
   "metadata": {},
   "outputs": [],
   "source": [
    "import json"
   ]
  },
  {
   "cell_type": "code",
   "execution_count": null,
   "id": "a81315f1-eaea-4535-9b1b-866661207ba9",
   "metadata": {},
   "outputs": [],
   "source": [
    "json."
   ]
  },
  {
   "cell_type": "code",
   "execution_count": null,
   "id": "4303df2a-b0f3-4f16-aa11-ccd9b0e1ad4c",
   "metadata": {},
   "outputs": [],
   "source": []
  },
  {
   "cell_type": "code",
   "execution_count": null,
   "id": "aebebbcd-c8a8-4e15-a7d7-acd88a12f52e",
   "metadata": {},
   "outputs": [],
   "source": []
  },
  {
   "cell_type": "code",
   "execution_count": null,
   "id": "815b310b-48a2-4665-bb9c-b2b550b78da4",
   "metadata": {},
   "outputs": [],
   "source": []
  }
 ],
 "metadata": {
  "kernelspec": {
   "display_name": "Python 3 (ipykernel)",
   "language": "python",
   "name": "python3"
  },
  "language_info": {
   "codemirror_mode": {
    "name": "ipython",
    "version": 3
   },
   "file_extension": ".py",
   "mimetype": "text/x-python",
   "name": "python",
   "nbconvert_exporter": "python",
   "pygments_lexer": "ipython3",
   "version": "3.11.0"
  }
 },
 "nbformat": 4,
 "nbformat_minor": 5
}

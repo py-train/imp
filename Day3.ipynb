{
 "cells": [
  {
   "cell_type": "markdown",
   "id": "1871f04f-a478-460e-9450-c5d826692e29",
   "metadata": {},
   "source": [
    "### Object Orientation: classes in python\n",
    "\n",
    "- Objects\n",
    "- Methods\n",
    "- Attributes\n",
    "- Inheritance??\n",
    "- Overloading??\n",
    "- Meta *"
   ]
  },
  {
   "cell_type": "code",
   "execution_count": 1,
   "id": "4b1e5f5e-9841-4125-8240-fd1ca2351494",
   "metadata": {},
   "outputs": [],
   "source": [
    "def read_file(fpath):\n",
    "    ...\n",
    "    return None"
   ]
  },
  {
   "cell_type": "code",
   "execution_count": 7,
   "id": "6e28310a-7f31-4d1a-b158-afd79c75b94c",
   "metadata": {},
   "outputs": [],
   "source": [
    "class Stack:\n",
    "    d2 = []    # static class data: one instance per class (not per object)!\n",
    "    def __init__(self):     # dunder init : constructor\n",
    "        self.data = []\n",
    "    \n",
    "    def push(self, val):\n",
    "        self.data.append(val)\n",
    "\n",
    "    def pop(self):\n",
    "        val = self.data.pop()\n",
    "        return val"
   ]
  },
  {
   "cell_type": "code",
   "execution_count": 8,
   "id": "64b7fe0d-13c0-45ef-be6c-fae56df31fe1",
   "metadata": {},
   "outputs": [],
   "source": [
    "mystack = Stack()\n",
    "mystack.push(10)\n",
    "val = mystack.pop()\n",
    "mystack.d2.append("
   ]
  },
  {
   "cell_type": "code",
   "execution_count": 9,
   "id": "bf8613f9-fdb0-4263-a777-5cb38e4d346d",
   "metadata": {},
   "outputs": [],
   "source": [
    "urstack = Stack()\n",
    "urstack.push(20)\n",
    "urstack.d2"
   ]
  },
  {
   "cell_type": "code",
   "execution_count": 10,
   "id": "ec006c60-bceb-4a78-86fc-a47bcc5287ca",
   "metadata": {},
   "outputs": [
    {
     "data": {
      "text/plain": [
       "[]"
      ]
     },
     "execution_count": 10,
     "metadata": {},
     "output_type": "execute_result"
    }
   ],
   "source": [
    "mystack.data"
   ]
  },
  {
   "cell_type": "code",
   "execution_count": 11,
   "id": "b4b19b89-3207-47e2-8d31-130bb02e66d9",
   "metadata": {},
   "outputs": [
    {
     "data": {
      "text/plain": [
       "[20]"
      ]
     },
     "execution_count": 11,
     "metadata": {},
     "output_type": "execute_result"
    }
   ],
   "source": [
    "urstack.data"
   ]
  },
  {
   "cell_type": "code",
   "execution_count": 12,
   "id": "7f9d4e4b-6e1c-46b8-b63b-6fd754c48f1c",
   "metadata": {},
   "outputs": [],
   "source": [
    "class BankAccount:\n",
    "    d2 = ''\n",
    "    def withdraw_money_from(self):\n",
    "        ...\n",
    "    def withdrawMoneyFrom(self):\n",
    "        ..."
   ]
  },
  {
   "cell_type": "code",
   "execution_count": 13,
   "id": "21617aac-cf64-4097-8e7b-4d82c89049c2",
   "metadata": {},
   "outputs": [],
   "source": [
    "import json"
   ]
  },
  {
   "cell_type": "code",
   "execution_count": 14,
   "id": "a81315f1-eaea-4535-9b1b-866661207ba9",
   "metadata": {},
   "outputs": [],
   "source": [
    "fp = open('geocode.json')\n",
    "gc = json.load(fp)"
   ]
  },
  {
   "cell_type": "code",
   "execution_count": 15,
   "id": "4303df2a-b0f3-4f16-aa11-ccd9b0e1ad4c",
   "metadata": {},
   "outputs": [
    {
     "data": {
      "text/plain": [
       "{'results': [{'address_components': [{'long_name': 'Dubai',\n",
       "     'short_name': 'Dubai',\n",
       "     'types': ['administrative_area_level_1', 'political']},\n",
       "    {'long_name': 'United Arab Emirates',\n",
       "     'short_name': 'AE',\n",
       "     'types': ['country', 'political']}],\n",
       "   'formatted_address': 'Sheikh Mohamed Bin Zayed Road (E311), Exit 60,Muhaisanah 2 - Dubai - United Arab Emirates',\n",
       "   'geometry': {'location': {'lat': 25.258679, 'lng': 55.410943},\n",
       "    'location_type': 'GEOMETRIC_CENTER',\n",
       "    'viewport': {'northeast': {'lat': 25.2600279802915,\n",
       "      'lng': 55.41229198029149},\n",
       "     'southwest': {'lat': 25.2573300197085, 'lng': 55.4095940197085}}},\n",
       "   'place_id': 'ChIJocpip3FeXz4RbMBhekhoTrI',\n",
       "   'types': ['establishment', 'point_of_interest']},\n",
       "  {'address_components': [{'long_name': 'Dubai',\n",
       "     'short_name': 'Dubai',\n",
       "     'types': ['locality', 'political']},\n",
       "    {'long_name': 'Muhaisnah',\n",
       "     'short_name': 'Muhaisnah',\n",
       "     'types': ['political', 'sublocality', 'sublocality_level_1']},\n",
       "    {'long_name': 'Dubai',\n",
       "     'short_name': 'Dubai',\n",
       "     'types': ['administrative_area_level_1', 'political']},\n",
       "    {'long_name': 'United Arab Emirates',\n",
       "     'short_name': 'AE',\n",
       "     'types': ['country', 'political']}],\n",
       "   'formatted_address': 'Dubai - United Arab Emirates',\n",
       "   'geometry': {'location': {'lat': 25.2606109, 'lng': 55.4114503},\n",
       "    'location_type': 'GEOMETRIC_CENTER',\n",
       "    'viewport': {'northeast': {'lat': 25.2619598802915,\n",
       "      'lng': 55.41279928029149},\n",
       "     'southwest': {'lat': 25.2592619197085, 'lng': 55.4101013197085}}},\n",
       "   'place_id': 'ChIJi9qVpnFeXz4Ruo4YztmXDHU',\n",
       "   'types': ['establishment', 'point_of_interest']}],\n",
       " 'status': 'OK'}"
      ]
     },
     "execution_count": 15,
     "metadata": {},
     "output_type": "execute_result"
    }
   ],
   "source": [
    "gc"
   ]
  },
  {
   "cell_type": "code",
   "execution_count": 16,
   "id": "aebebbcd-c8a8-4e15-a7d7-acd88a12f52e",
   "metadata": {},
   "outputs": [
    {
     "data": {
      "text/plain": [
       "dict_keys(['results', 'status'])"
      ]
     },
     "execution_count": 16,
     "metadata": {},
     "output_type": "execute_result"
    }
   ],
   "source": [
    "gc.keys()"
   ]
  },
  {
   "cell_type": "code",
   "execution_count": 17,
   "id": "815b310b-48a2-4665-bb9c-b2b550b78da4",
   "metadata": {},
   "outputs": [
    {
     "data": {
      "text/plain": [
       "'OK'"
      ]
     },
     "execution_count": 17,
     "metadata": {},
     "output_type": "execute_result"
    }
   ],
   "source": [
    "gc['status']"
   ]
  },
  {
   "cell_type": "code",
   "execution_count": 18,
   "id": "aa3143f1-2978-4d33-b729-ec5dc70e1fd2",
   "metadata": {},
   "outputs": [
    {
     "data": {
      "text/plain": [
       "[{'address_components': [{'long_name': 'Dubai',\n",
       "    'short_name': 'Dubai',\n",
       "    'types': ['administrative_area_level_1', 'political']},\n",
       "   {'long_name': 'United Arab Emirates',\n",
       "    'short_name': 'AE',\n",
       "    'types': ['country', 'political']}],\n",
       "  'formatted_address': 'Sheikh Mohamed Bin Zayed Road (E311), Exit 60,Muhaisanah 2 - Dubai - United Arab Emirates',\n",
       "  'geometry': {'location': {'lat': 25.258679, 'lng': 55.410943},\n",
       "   'location_type': 'GEOMETRIC_CENTER',\n",
       "   'viewport': {'northeast': {'lat': 25.2600279802915,\n",
       "     'lng': 55.41229198029149},\n",
       "    'southwest': {'lat': 25.2573300197085, 'lng': 55.4095940197085}}},\n",
       "  'place_id': 'ChIJocpip3FeXz4RbMBhekhoTrI',\n",
       "  'types': ['establishment', 'point_of_interest']},\n",
       " {'address_components': [{'long_name': 'Dubai',\n",
       "    'short_name': 'Dubai',\n",
       "    'types': ['locality', 'political']},\n",
       "   {'long_name': 'Muhaisnah',\n",
       "    'short_name': 'Muhaisnah',\n",
       "    'types': ['political', 'sublocality', 'sublocality_level_1']},\n",
       "   {'long_name': 'Dubai',\n",
       "    'short_name': 'Dubai',\n",
       "    'types': ['administrative_area_level_1', 'political']},\n",
       "   {'long_name': 'United Arab Emirates',\n",
       "    'short_name': 'AE',\n",
       "    'types': ['country', 'political']}],\n",
       "  'formatted_address': 'Dubai - United Arab Emirates',\n",
       "  'geometry': {'location': {'lat': 25.2606109, 'lng': 55.4114503},\n",
       "   'location_type': 'GEOMETRIC_CENTER',\n",
       "   'viewport': {'northeast': {'lat': 25.2619598802915,\n",
       "     'lng': 55.41279928029149},\n",
       "    'southwest': {'lat': 25.2592619197085, 'lng': 55.4101013197085}}},\n",
       "  'place_id': 'ChIJi9qVpnFeXz4Ruo4YztmXDHU',\n",
       "  'types': ['establishment', 'point_of_interest']}]"
      ]
     },
     "execution_count": 18,
     "metadata": {},
     "output_type": "execute_result"
    }
   ],
   "source": [
    "gc['results']"
   ]
  },
  {
   "cell_type": "code",
   "execution_count": 19,
   "id": "3e522ef8-86db-45a8-9a9d-2b627d0a8149",
   "metadata": {},
   "outputs": [
    {
     "data": {
      "text/plain": [
       "2"
      ]
     },
     "execution_count": 19,
     "metadata": {},
     "output_type": "execute_result"
    }
   ],
   "source": [
    "len(gc['results'])"
   ]
  },
  {
   "cell_type": "code",
   "execution_count": 20,
   "id": "aa16f731-a78e-42ac-8d24-8fc95ba710f8",
   "metadata": {},
   "outputs": [
    {
     "data": {
      "text/plain": [
       "{'address_components': [{'long_name': 'Dubai',\n",
       "   'short_name': 'Dubai',\n",
       "   'types': ['administrative_area_level_1', 'political']},\n",
       "  {'long_name': 'United Arab Emirates',\n",
       "   'short_name': 'AE',\n",
       "   'types': ['country', 'political']}],\n",
       " 'formatted_address': 'Sheikh Mohamed Bin Zayed Road (E311), Exit 60,Muhaisanah 2 - Dubai - United Arab Emirates',\n",
       " 'geometry': {'location': {'lat': 25.258679, 'lng': 55.410943},\n",
       "  'location_type': 'GEOMETRIC_CENTER',\n",
       "  'viewport': {'northeast': {'lat': 25.2600279802915,\n",
       "    'lng': 55.41229198029149},\n",
       "   'southwest': {'lat': 25.2573300197085, 'lng': 55.4095940197085}}},\n",
       " 'place_id': 'ChIJocpip3FeXz4RbMBhekhoTrI',\n",
       " 'types': ['establishment', 'point_of_interest']}"
      ]
     },
     "execution_count": 20,
     "metadata": {},
     "output_type": "execute_result"
    }
   ],
   "source": [
    "gc['results'][0]"
   ]
  },
  {
   "cell_type": "code",
   "execution_count": 21,
   "id": "e5315a12-18c0-456d-80bf-b1a781bffe53",
   "metadata": {},
   "outputs": [
    {
     "data": {
      "text/plain": [
       "'Sheikh Mohamed Bin Zayed Road (E311), Exit 60,Muhaisanah 2 - Dubai - United Arab Emirates'"
      ]
     },
     "execution_count": 21,
     "metadata": {},
     "output_type": "execute_result"
    }
   ],
   "source": [
    "# which place/s is/are being referred to in this data?\n",
    "gc['results'][0]['formatted_address']"
   ]
  },
  {
   "cell_type": "code",
   "execution_count": 22,
   "id": "bea76af7-7e2c-4030-8c6a-fbbdd255bc58",
   "metadata": {},
   "outputs": [
    {
     "name": "stdout",
     "output_type": "stream",
     "text": [
      "Sheikh Mohamed Bin Zayed Road (E311), Exit 60,Muhaisanah 2 - Dubai - United Arab Emirates\n",
      "Dubai - United Arab Emirates\n"
     ]
    }
   ],
   "source": [
    "for result in gc['results']:\n",
    "    print(result['formatted_address'])"
   ]
  },
  {
   "cell_type": "code",
   "execution_count": 25,
   "id": "423ba972-4b8e-433f-a58a-671494ce9f55",
   "metadata": {},
   "outputs": [
    {
     "data": {
      "text/plain": [
       "{'lat': 25.258679, 'lng': 55.410943}"
      ]
     },
     "execution_count": 25,
     "metadata": {},
     "output_type": "execute_result"
    }
   ],
   "source": [
    "gc['results'][0]['geometry']['location']"
   ]
  },
  {
   "cell_type": "code",
   "execution_count": 26,
   "id": "b596d1a7-cd53-4dc2-bda8-8e993138cca5",
   "metadata": {},
   "outputs": [
    {
     "data": {
      "text/plain": [
       "{'lat': 25.2606109, 'lng': 55.4114503}"
      ]
     },
     "execution_count": 26,
     "metadata": {},
     "output_type": "execute_result"
    }
   ],
   "source": [
    "gc['results'][1]['geometry']['location']"
   ]
  },
  {
   "cell_type": "code",
   "execution_count": 29,
   "id": "3532ecfb-e6d7-4ba4-8c17-8c31e379bba7",
   "metadata": {},
   "outputs": [
    {
     "name": "stdout",
     "output_type": "stream",
     "text": [
      "25.258679 55.410943 Sheikh Mohamed Bin Zayed Road (E311), Exit 60,Muhaisanah 2 - Dubai - United Arab Emirates\n",
      "25.2606109 55.4114503 Dubai - United Arab Emirates\n"
     ]
    }
   ],
   "source": [
    "for result in gc['results']:\n",
    "    locn = result['geometry']['location']\n",
    "    print(locn['lat'], locn['lng'], result['formatted_address'])"
   ]
  },
  {
   "cell_type": "markdown",
   "id": "24ba7701-2b85-4893-ac64-fa7924a125fc",
   "metadata": {},
   "source": [
    "### DB interaction\n",
    "\n",
    "- DB clients\n",
    "- Python DB API 2.0"
   ]
  },
  {
   "cell_type": "code",
   "execution_count": 30,
   "id": "877fb51a-1c19-43b6-80fc-b5b1329c8175",
   "metadata": {},
   "outputs": [],
   "source": [
    "import sqlite3"
   ]
  },
  {
   "cell_type": "code",
   "execution_count": 31,
   "id": "295319e7-0135-4e5b-a9d4-526a2d206fc3",
   "metadata": {},
   "outputs": [
    {
     "data": {
      "text/plain": [
       "<sqlite3.Connection at 0x10b3698a0>"
      ]
     },
     "execution_count": 31,
     "metadata": {},
     "output_type": "execute_result"
    }
   ],
   "source": [
    "conn = sqlite3.connect('tips.db')\n",
    "conn"
   ]
  },
  {
   "cell_type": "code",
   "execution_count": 32,
   "id": "f559043c-452a-4d0d-9c51-a0363c0d4694",
   "metadata": {},
   "outputs": [
    {
     "data": {
      "text/plain": [
       "<sqlite3.Cursor at 0x10b387640>"
      ]
     },
     "execution_count": 32,
     "metadata": {},
     "output_type": "execute_result"
    }
   ],
   "source": [
    "cursor = conn.cursor()\n",
    "cursor"
   ]
  },
  {
   "cell_type": "code",
   "execution_count": 33,
   "id": "485bc090-94b2-47cf-abe5-588051738a4c",
   "metadata": {},
   "outputs": [
    {
     "data": {
      "text/plain": [
       "<sqlite3.Cursor at 0x10b387640>"
      ]
     },
     "execution_count": 33,
     "metadata": {},
     "output_type": "execute_result"
    }
   ],
   "source": [
    "cursor.execute('select count(*) from TIPS;')"
   ]
  },
  {
   "cell_type": "code",
   "execution_count": 34,
   "id": "0fd86e95-22f0-4c2a-8dab-aecaf7104711",
   "metadata": {},
   "outputs": [
    {
     "data": {
      "text/plain": [
       "(244,)"
      ]
     },
     "execution_count": 34,
     "metadata": {},
     "output_type": "execute_result"
    }
   ],
   "source": [
    "cursor.fetchone()"
   ]
  },
  {
   "cell_type": "code",
   "execution_count": 39,
   "id": "5bb4269e-3397-40b4-a660-cf9d9f0f1672",
   "metadata": {},
   "outputs": [
    {
     "data": {
      "text/plain": [
       "(244,)"
      ]
     },
     "execution_count": 39,
     "metadata": {},
     "output_type": "execute_result"
    }
   ],
   "source": [
    "(244,)"
   ]
  },
  {
   "cell_type": "code",
   "execution_count": 40,
   "id": "f5a552c5-204e-4ce9-bf42-1c4db6bacc42",
   "metadata": {},
   "outputs": [
    {
     "data": {
      "text/plain": [
       "[244]"
      ]
     },
     "execution_count": 40,
     "metadata": {},
     "output_type": "execute_result"
    }
   ],
   "source": [
    "[244,]"
   ]
  },
  {
   "cell_type": "code",
   "execution_count": 41,
   "id": "f1e9d252-10d2-4386-baa2-1accc44c3132",
   "metadata": {},
   "outputs": [
    {
     "data": {
      "text/plain": [
       "NoneType"
      ]
     },
     "execution_count": 41,
     "metadata": {},
     "output_type": "execute_result"
    }
   ],
   "source": [
    "result = cursor.fetchone()\n",
    "type(result)"
   ]
  },
  {
   "cell_type": "code",
   "execution_count": 42,
   "id": "c0e733bf-2b98-4897-90db-eb697e514cbd",
   "metadata": {},
   "outputs": [],
   "source": [
    "result"
   ]
  },
  {
   "cell_type": "code",
   "execution_count": 43,
   "id": "9164b160-4e91-4ed3-b96f-891c2e07afc7",
   "metadata": {},
   "outputs": [],
   "source": [
    "cursor.fetchone()"
   ]
  },
  {
   "cell_type": "code",
   "execution_count": 60,
   "id": "5494067c-9eab-40f9-9fc7-61c254e2e442",
   "metadata": {},
   "outputs": [
    {
     "data": {
      "text/plain": [
       "<sqlite3.Cursor at 0x10b387640>"
      ]
     },
     "execution_count": 60,
     "metadata": {},
     "output_type": "execute_result"
    }
   ],
   "source": [
    "cursor.execute('select * from TIPS limit 5;')"
   ]
  },
  {
   "cell_type": "code",
   "execution_count": 59,
   "id": "7115ee34-3d6b-4cb0-bdd4-2946c1a5f183",
   "metadata": {},
   "outputs": [
    {
     "data": {
      "text/plain": [
       "[(16.99, 1.01, 'Female', 'No', 'Sun', 'Dinner', 2),\n",
       " (10.34, 1.66, 'Male', 'No', 'Sun', 'Dinner', 3),\n",
       " (21.01, 3.5, 'Male', 'No', 'Sun', 'Dinner', 3),\n",
       " (23.68, 3.31, 'Male', 'No', 'Sun', 'Dinner', 2),\n",
       " (24.59, 3.61, 'Female', 'No', 'Sun', 'Dinner', 4)]"
      ]
     },
     "execution_count": 59,
     "metadata": {},
     "output_type": "execute_result"
    }
   ],
   "source": [
    "cursor.fetchall()"
   ]
  },
  {
   "cell_type": "code",
   "execution_count": 55,
   "id": "eb069845-c92e-4d5e-aeee-899d13b9aabc",
   "metadata": {},
   "outputs": [
    {
     "data": {
      "text/plain": [
       "(16.99, 1.01, 'Female', 'No', 'Sun', 'Dinner', 2)"
      ]
     },
     "execution_count": 55,
     "metadata": {},
     "output_type": "execute_result"
    }
   ],
   "source": [
    "cursor.fetchone()"
   ]
  },
  {
   "cell_type": "code",
   "execution_count": 56,
   "id": "8de5298d-a5f5-4742-8de8-0e61ec986009",
   "metadata": {},
   "outputs": [
    {
     "data": {
      "text/plain": [
       "[(10.34, 1.66, 'Male', 'No', 'Sun', 'Dinner', 3),\n",
       " (21.01, 3.5, 'Male', 'No', 'Sun', 'Dinner', 3),\n",
       " (23.68, 3.31, 'Male', 'No', 'Sun', 'Dinner', 2),\n",
       " (24.59, 3.61, 'Female', 'No', 'Sun', 'Dinner', 4),\n",
       " (25.29, 4.71, 'Male', 'No', 'Sun', 'Dinner', 4)]"
      ]
     },
     "execution_count": 56,
     "metadata": {},
     "output_type": "execute_result"
    }
   ],
   "source": [
    "cursor.fetchmany(5)"
   ]
  },
  {
   "cell_type": "code",
   "execution_count": 57,
   "id": "35e5ce5a-8469-43ba-97fc-759897ae55db",
   "metadata": {},
   "outputs": [
    {
     "data": {
      "text/plain": [
       "[(8.77, 2.0, 'Male', 'No', 'Sun', 'Dinner', 2),\n",
       " (26.88, 3.12, 'Male', 'No', 'Sun', 'Dinner', 4),\n",
       " (15.04, 1.96, 'Male', 'No', 'Sun', 'Dinner', 2),\n",
       " (14.78, 3.23, 'Male', 'No', 'Sun', 'Dinner', 2),\n",
       " (10.27, 1.71, 'Male', 'No', 'Sun', 'Dinner', 2),\n",
       " (35.26, 5.0, 'Female', 'No', 'Sun', 'Dinner', 4),\n",
       " (15.42, 1.57, 'Male', 'No', 'Sun', 'Dinner', 2),\n",
       " (18.43, 3.0, 'Male', 'No', 'Sun', 'Dinner', 4),\n",
       " (14.83, 3.02, 'Female', 'No', 'Sun', 'Dinner', 2),\n",
       " (21.58, 3.92, 'Male', 'No', 'Sun', 'Dinner', 2),\n",
       " (10.33, 1.67, 'Female', 'No', 'Sun', 'Dinner', 3),\n",
       " (16.29, 3.71, 'Male', 'No', 'Sun', 'Dinner', 3),\n",
       " (16.97, 3.5, 'Female', 'No', 'Sun', 'Dinner', 3),\n",
       " (20.65, 3.35, 'Male', 'No', 'Sat', 'Dinner', 3),\n",
       " (17.92, 4.08, 'Male', 'No', 'Sat', 'Dinner', 2),\n",
       " (20.29, 2.75, 'Female', 'No', 'Sat', 'Dinner', 2),\n",
       " (15.77, 2.23, 'Female', 'No', 'Sat', 'Dinner', 2),\n",
       " (39.42, 7.58, 'Male', 'No', 'Sat', 'Dinner', 4),\n",
       " (19.82, 3.18, 'Male', 'No', 'Sat', 'Dinner', 2),\n",
       " (17.81, 2.34, 'Male', 'No', 'Sat', 'Dinner', 4),\n",
       " (13.37, 2.0, 'Male', 'No', 'Sat', 'Dinner', 2),\n",
       " (12.69, 2.0, 'Male', 'No', 'Sat', 'Dinner', 2),\n",
       " (21.7, 4.3, 'Male', 'No', 'Sat', 'Dinner', 2),\n",
       " (19.65, 3.0, 'Female', 'No', 'Sat', 'Dinner', 2),\n",
       " (9.55, 1.45, 'Male', 'No', 'Sat', 'Dinner', 2),\n",
       " (18.35, 2.5, 'Male', 'No', 'Sat', 'Dinner', 4),\n",
       " (15.06, 3.0, 'Female', 'No', 'Sat', 'Dinner', 2),\n",
       " (20.69, 2.45, 'Female', 'No', 'Sat', 'Dinner', 4),\n",
       " (17.78, 3.27, 'Male', 'No', 'Sat', 'Dinner', 2),\n",
       " (24.06, 3.6, 'Male', 'No', 'Sat', 'Dinner', 3),\n",
       " (16.31, 2.0, 'Male', 'No', 'Sat', 'Dinner', 3),\n",
       " (16.93, 3.07, 'Female', 'No', 'Sat', 'Dinner', 3),\n",
       " (18.69, 2.31, 'Male', 'No', 'Sat', 'Dinner', 3),\n",
       " (31.27, 5.0, 'Male', 'No', 'Sat', 'Dinner', 3),\n",
       " (16.04, 2.24, 'Male', 'No', 'Sat', 'Dinner', 3),\n",
       " (17.46, 2.54, 'Male', 'No', 'Sun', 'Dinner', 2),\n",
       " (13.94, 3.06, 'Male', 'No', 'Sun', 'Dinner', 2),\n",
       " (9.68, 1.32, 'Male', 'No', 'Sun', 'Dinner', 2),\n",
       " (30.4, 5.6, 'Male', 'No', 'Sun', 'Dinner', 4),\n",
       " (18.29, 3.0, 'Male', 'No', 'Sun', 'Dinner', 2),\n",
       " (22.23, 5.0, 'Male', 'No', 'Sun', 'Dinner', 2),\n",
       " (32.4, 6.0, 'Male', 'No', 'Sun', 'Dinner', 4),\n",
       " (28.55, 2.05, 'Male', 'No', 'Sun', 'Dinner', 3),\n",
       " (18.04, 3.0, 'Male', 'No', 'Sun', 'Dinner', 2),\n",
       " (12.54, 2.5, 'Male', 'No', 'Sun', 'Dinner', 2),\n",
       " (10.29, 2.6, 'Female', 'No', 'Sun', 'Dinner', 2),\n",
       " (34.81, 5.2, 'Female', 'No', 'Sun', 'Dinner', 4),\n",
       " (9.94, 1.56, 'Male', 'No', 'Sun', 'Dinner', 2),\n",
       " (25.56, 4.34, 'Male', 'No', 'Sun', 'Dinner', 4),\n",
       " (19.49, 3.51, 'Male', 'No', 'Sun', 'Dinner', 2),\n",
       " (38.01, 3.0, 'Male', 'Yes', 'Sat', 'Dinner', 4),\n",
       " (26.41, 1.5, 'Female', 'No', 'Sat', 'Dinner', 2),\n",
       " (11.24, 1.76, 'Male', 'Yes', 'Sat', 'Dinner', 2),\n",
       " (48.27, 6.73, 'Male', 'No', 'Sat', 'Dinner', 4),\n",
       " (20.29, 3.21, 'Male', 'Yes', 'Sat', 'Dinner', 2),\n",
       " (13.81, 2.0, 'Male', 'Yes', 'Sat', 'Dinner', 2),\n",
       " (11.02, 1.98, 'Male', 'Yes', 'Sat', 'Dinner', 2),\n",
       " (18.29, 3.76, 'Male', 'Yes', 'Sat', 'Dinner', 4),\n",
       " (17.59, 2.64, 'Male', 'No', 'Sat', 'Dinner', 3),\n",
       " (20.08, 3.15, 'Male', 'No', 'Sat', 'Dinner', 3),\n",
       " (16.45, 2.47, 'Female', 'No', 'Sat', 'Dinner', 2),\n",
       " (3.07, 1.0, 'Female', 'Yes', 'Sat', 'Dinner', 1),\n",
       " (20.23, 2.01, 'Male', 'No', 'Sat', 'Dinner', 2),\n",
       " (15.01, 2.09, 'Male', 'Yes', 'Sat', 'Dinner', 2),\n",
       " (12.02, 1.97, 'Male', 'No', 'Sat', 'Dinner', 2),\n",
       " (17.07, 3.0, 'Female', 'No', 'Sat', 'Dinner', 3),\n",
       " (26.86, 3.14, 'Female', 'Yes', 'Sat', 'Dinner', 2),\n",
       " (25.28, 5.0, 'Female', 'Yes', 'Sat', 'Dinner', 2),\n",
       " (14.73, 2.2, 'Female', 'No', 'Sat', 'Dinner', 2),\n",
       " (10.51, 1.25, 'Male', 'No', 'Sat', 'Dinner', 2),\n",
       " (17.92, 3.08, 'Male', 'Yes', 'Sat', 'Dinner', 2),\n",
       " (27.2, 4.0, 'Male', 'No', 'Thur', 'Lunch', 4),\n",
       " (22.76, 3.0, 'Male', 'No', 'Thur', 'Lunch', 2),\n",
       " (17.29, 2.71, 'Male', 'No', 'Thur', 'Lunch', 2),\n",
       " (19.44, 3.0, 'Male', 'Yes', 'Thur', 'Lunch', 2),\n",
       " (16.66, 3.4, 'Male', 'No', 'Thur', 'Lunch', 2),\n",
       " (10.07, 1.83, 'Female', 'No', 'Thur', 'Lunch', 1),\n",
       " (32.68, 5.0, 'Male', 'Yes', 'Thur', 'Lunch', 2),\n",
       " (15.98, 2.03, 'Male', 'No', 'Thur', 'Lunch', 2),\n",
       " (34.83, 5.17, 'Female', 'No', 'Thur', 'Lunch', 4),\n",
       " (13.03, 2.0, 'Male', 'No', 'Thur', 'Lunch', 2),\n",
       " (18.28, 4.0, 'Male', 'No', 'Thur', 'Lunch', 2),\n",
       " (24.71, 5.85, 'Male', 'No', 'Thur', 'Lunch', 2),\n",
       " (21.16, 3.0, 'Male', 'No', 'Thur', 'Lunch', 2),\n",
       " (28.97, 3.0, 'Male', 'Yes', 'Fri', 'Dinner', 2),\n",
       " (22.49, 3.5, 'Male', 'No', 'Fri', 'Dinner', 2),\n",
       " (5.75, 1.0, 'Female', 'Yes', 'Fri', 'Dinner', 2),\n",
       " (16.32, 4.3, 'Female', 'Yes', 'Fri', 'Dinner', 2),\n",
       " (22.75, 3.25, 'Female', 'No', 'Fri', 'Dinner', 2),\n",
       " (40.17, 4.73, 'Male', 'Yes', 'Fri', 'Dinner', 4),\n",
       " (27.28, 4.0, 'Male', 'Yes', 'Fri', 'Dinner', 2),\n",
       " (12.03, 1.5, 'Male', 'Yes', 'Fri', 'Dinner', 2),\n",
       " (21.01, 3.0, 'Male', 'Yes', 'Fri', 'Dinner', 2),\n",
       " (12.46, 1.5, 'Male', 'No', 'Fri', 'Dinner', 2),\n",
       " (11.35, 2.5, 'Female', 'Yes', 'Fri', 'Dinner', 2),\n",
       " (15.38, 3.0, 'Female', 'Yes', 'Fri', 'Dinner', 2),\n",
       " (44.3, 2.5, 'Female', 'Yes', 'Sat', 'Dinner', 3),\n",
       " (22.42, 3.48, 'Female', 'Yes', 'Sat', 'Dinner', 2),\n",
       " (20.92, 4.08, 'Female', 'No', 'Sat', 'Dinner', 2),\n",
       " (15.36, 1.64, 'Male', 'Yes', 'Sat', 'Dinner', 2),\n",
       " (20.49, 4.06, 'Male', 'Yes', 'Sat', 'Dinner', 2),\n",
       " (25.21, 4.29, 'Male', 'Yes', 'Sat', 'Dinner', 2),\n",
       " (18.24, 3.76, 'Male', 'No', 'Sat', 'Dinner', 2),\n",
       " (14.31, 4.0, 'Female', 'Yes', 'Sat', 'Dinner', 2),\n",
       " (14.0, 3.0, 'Male', 'No', 'Sat', 'Dinner', 2),\n",
       " (7.25, 1.0, 'Female', 'No', 'Sat', 'Dinner', 1),\n",
       " (38.07, 4.0, 'Male', 'No', 'Sun', 'Dinner', 3),\n",
       " (23.95, 2.55, 'Male', 'No', 'Sun', 'Dinner', 2),\n",
       " (25.71, 4.0, 'Female', 'No', 'Sun', 'Dinner', 3),\n",
       " (17.31, 3.5, 'Female', 'No', 'Sun', 'Dinner', 2),\n",
       " (29.93, 5.07, 'Male', 'No', 'Sun', 'Dinner', 4),\n",
       " (10.65, 1.5, 'Female', 'No', 'Thur', 'Lunch', 2),\n",
       " (12.43, 1.8, 'Female', 'No', 'Thur', 'Lunch', 2),\n",
       " (24.08, 2.92, 'Female', 'No', 'Thur', 'Lunch', 4),\n",
       " (11.69, 2.31, 'Male', 'No', 'Thur', 'Lunch', 2),\n",
       " (13.42, 1.68, 'Female', 'No', 'Thur', 'Lunch', 2),\n",
       " (14.26, 2.5, 'Male', 'No', 'Thur', 'Lunch', 2),\n",
       " (15.95, 2.0, 'Male', 'No', 'Thur', 'Lunch', 2),\n",
       " (12.48, 2.52, 'Female', 'No', 'Thur', 'Lunch', 2),\n",
       " (29.8, 4.2, 'Female', 'No', 'Thur', 'Lunch', 6),\n",
       " (8.52, 1.48, 'Male', 'No', 'Thur', 'Lunch', 2),\n",
       " (14.52, 2.0, 'Female', 'No', 'Thur', 'Lunch', 2),\n",
       " (11.38, 2.0, 'Female', 'No', 'Thur', 'Lunch', 2),\n",
       " (22.82, 2.18, 'Male', 'No', 'Thur', 'Lunch', 3),\n",
       " (19.08, 1.5, 'Male', 'No', 'Thur', 'Lunch', 2),\n",
       " (20.27, 2.83, 'Female', 'No', 'Thur', 'Lunch', 2),\n",
       " (11.17, 1.5, 'Female', 'No', 'Thur', 'Lunch', 2),\n",
       " (12.26, 2.0, 'Female', 'No', 'Thur', 'Lunch', 2),\n",
       " (18.26, 3.25, 'Female', 'No', 'Thur', 'Lunch', 2),\n",
       " (8.51, 1.25, 'Female', 'No', 'Thur', 'Lunch', 2),\n",
       " (10.33, 2.0, 'Female', 'No', 'Thur', 'Lunch', 2),\n",
       " (14.15, 2.0, 'Female', 'No', 'Thur', 'Lunch', 2),\n",
       " (16.0, 2.0, 'Male', 'Yes', 'Thur', 'Lunch', 2),\n",
       " (13.16, 2.75, 'Female', 'No', 'Thur', 'Lunch', 2),\n",
       " (17.47, 3.5, 'Female', 'No', 'Thur', 'Lunch', 2),\n",
       " (34.3, 6.7, 'Male', 'No', 'Thur', 'Lunch', 6),\n",
       " (41.19, 5.0, 'Male', 'No', 'Thur', 'Lunch', 5),\n",
       " (27.05, 5.0, 'Female', 'No', 'Thur', 'Lunch', 6),\n",
       " (16.43, 2.3, 'Female', 'No', 'Thur', 'Lunch', 2),\n",
       " (8.35, 1.5, 'Female', 'No', 'Thur', 'Lunch', 2),\n",
       " (18.64, 1.36, 'Female', 'No', 'Thur', 'Lunch', 3),\n",
       " (11.87, 1.63, 'Female', 'No', 'Thur', 'Lunch', 2),\n",
       " (9.78, 1.73, 'Male', 'No', 'Thur', 'Lunch', 2),\n",
       " (7.51, 2.0, 'Male', 'No', 'Thur', 'Lunch', 2),\n",
       " (14.07, 2.5, 'Male', 'No', 'Sun', 'Dinner', 2),\n",
       " (13.13, 2.0, 'Male', 'No', 'Sun', 'Dinner', 2),\n",
       " (17.26, 2.74, 'Male', 'No', 'Sun', 'Dinner', 3),\n",
       " (24.55, 2.0, 'Male', 'No', 'Sun', 'Dinner', 4),\n",
       " (19.77, 2.0, 'Male', 'No', 'Sun', 'Dinner', 4),\n",
       " (29.85, 5.14, 'Female', 'No', 'Sun', 'Dinner', 5),\n",
       " (48.17, 5.0, 'Male', 'No', 'Sun', 'Dinner', 6),\n",
       " (25.0, 3.75, 'Female', 'No', 'Sun', 'Dinner', 4),\n",
       " (13.39, 2.61, 'Female', 'No', 'Sun', 'Dinner', 2),\n",
       " (16.49, 2.0, 'Male', 'No', 'Sun', 'Dinner', 4),\n",
       " (21.5, 3.5, 'Male', 'No', 'Sun', 'Dinner', 4),\n",
       " (12.66, 2.5, 'Male', 'No', 'Sun', 'Dinner', 2),\n",
       " (16.21, 2.0, 'Female', 'No', 'Sun', 'Dinner', 3),\n",
       " (13.81, 2.0, 'Male', 'No', 'Sun', 'Dinner', 2),\n",
       " (17.51, 3.0, 'Female', 'Yes', 'Sun', 'Dinner', 2),\n",
       " (24.52, 3.48, 'Male', 'No', 'Sun', 'Dinner', 3),\n",
       " (20.76, 2.24, 'Male', 'No', 'Sun', 'Dinner', 2),\n",
       " (31.71, 4.5, 'Male', 'No', 'Sun', 'Dinner', 4),\n",
       " (10.59, 1.61, 'Female', 'Yes', 'Sat', 'Dinner', 2),\n",
       " (10.63, 2.0, 'Female', 'Yes', 'Sat', 'Dinner', 2),\n",
       " (50.81, 10.0, 'Male', 'Yes', 'Sat', 'Dinner', 3),\n",
       " (15.81, 3.16, 'Male', 'Yes', 'Sat', 'Dinner', 2),\n",
       " (7.25, 5.15, 'Male', 'Yes', 'Sun', 'Dinner', 2),\n",
       " (31.85, 3.18, 'Male', 'Yes', 'Sun', 'Dinner', 2),\n",
       " (16.82, 4.0, 'Male', 'Yes', 'Sun', 'Dinner', 2),\n",
       " (32.9, 3.11, 'Male', 'Yes', 'Sun', 'Dinner', 2),\n",
       " (17.89, 2.0, 'Male', 'Yes', 'Sun', 'Dinner', 2),\n",
       " (14.48, 2.0, 'Male', 'Yes', 'Sun', 'Dinner', 2),\n",
       " (9.6, 4.0, 'Female', 'Yes', 'Sun', 'Dinner', 2),\n",
       " (34.63, 3.55, 'Male', 'Yes', 'Sun', 'Dinner', 2),\n",
       " (34.65, 3.68, 'Male', 'Yes', 'Sun', 'Dinner', 4),\n",
       " (23.33, 5.65, 'Male', 'Yes', 'Sun', 'Dinner', 2),\n",
       " (45.35, 3.5, 'Male', 'Yes', 'Sun', 'Dinner', 3),\n",
       " (23.17, 6.5, 'Male', 'Yes', 'Sun', 'Dinner', 4),\n",
       " (40.55, 3.0, 'Male', 'Yes', 'Sun', 'Dinner', 2),\n",
       " (20.69, 5.0, 'Male', 'No', 'Sun', 'Dinner', 5),\n",
       " (20.9, 3.5, 'Female', 'Yes', 'Sun', 'Dinner', 3),\n",
       " (30.46, 2.0, 'Male', 'Yes', 'Sun', 'Dinner', 5),\n",
       " (18.15, 3.5, 'Female', 'Yes', 'Sun', 'Dinner', 3),\n",
       " (23.1, 4.0, 'Male', 'Yes', 'Sun', 'Dinner', 3),\n",
       " (15.69, 1.5, 'Male', 'Yes', 'Sun', 'Dinner', 2),\n",
       " (19.81, 4.19, 'Female', 'Yes', 'Thur', 'Lunch', 2),\n",
       " (28.44, 2.56, 'Male', 'Yes', 'Thur', 'Lunch', 2),\n",
       " (15.48, 2.02, 'Male', 'Yes', 'Thur', 'Lunch', 2),\n",
       " (16.58, 4.0, 'Male', 'Yes', 'Thur', 'Lunch', 2),\n",
       " (7.56, 1.44, 'Male', 'No', 'Thur', 'Lunch', 2),\n",
       " (10.34, 2.0, 'Male', 'Yes', 'Thur', 'Lunch', 2),\n",
       " (43.11, 5.0, 'Female', 'Yes', 'Thur', 'Lunch', 4),\n",
       " (13.0, 2.0, 'Female', 'Yes', 'Thur', 'Lunch', 2),\n",
       " (13.51, 2.0, 'Male', 'Yes', 'Thur', 'Lunch', 2),\n",
       " (18.71, 4.0, 'Male', 'Yes', 'Thur', 'Lunch', 3),\n",
       " (12.74, 2.01, 'Female', 'Yes', 'Thur', 'Lunch', 2),\n",
       " (13.0, 2.0, 'Female', 'Yes', 'Thur', 'Lunch', 2),\n",
       " (16.4, 2.5, 'Female', 'Yes', 'Thur', 'Lunch', 2),\n",
       " (20.53, 4.0, 'Male', 'Yes', 'Thur', 'Lunch', 4),\n",
       " (16.47, 3.23, 'Female', 'Yes', 'Thur', 'Lunch', 3),\n",
       " (26.59, 3.41, 'Male', 'Yes', 'Sat', 'Dinner', 3),\n",
       " (38.73, 3.0, 'Male', 'Yes', 'Sat', 'Dinner', 4),\n",
       " (24.27, 2.03, 'Male', 'Yes', 'Sat', 'Dinner', 2),\n",
       " (12.76, 2.23, 'Female', 'Yes', 'Sat', 'Dinner', 2),\n",
       " (30.06, 2.0, 'Male', 'Yes', 'Sat', 'Dinner', 3),\n",
       " (25.89, 5.16, 'Male', 'Yes', 'Sat', 'Dinner', 4),\n",
       " (48.33, 9.0, 'Male', 'No', 'Sat', 'Dinner', 4),\n",
       " (13.27, 2.5, 'Female', 'Yes', 'Sat', 'Dinner', 2),\n",
       " (28.17, 6.5, 'Female', 'Yes', 'Sat', 'Dinner', 3),\n",
       " (12.9, 1.1, 'Female', 'Yes', 'Sat', 'Dinner', 2),\n",
       " (28.15, 3.0, 'Male', 'Yes', 'Sat', 'Dinner', 5),\n",
       " (11.59, 1.5, 'Male', 'Yes', 'Sat', 'Dinner', 2),\n",
       " (7.74, 1.44, 'Male', 'Yes', 'Sat', 'Dinner', 2),\n",
       " (30.14, 3.09, 'Female', 'Yes', 'Sat', 'Dinner', 4),\n",
       " (12.16, 2.2, 'Male', 'Yes', 'Fri', 'Lunch', 2),\n",
       " (13.42, 3.48, 'Female', 'Yes', 'Fri', 'Lunch', 2),\n",
       " (8.58, 1.92, 'Male', 'Yes', 'Fri', 'Lunch', 1),\n",
       " (15.98, 3.0, 'Female', 'No', 'Fri', 'Lunch', 3),\n",
       " (13.42, 1.58, 'Male', 'Yes', 'Fri', 'Lunch', 2),\n",
       " (16.27, 2.5, 'Female', 'Yes', 'Fri', 'Lunch', 2),\n",
       " (10.09, 2.0, 'Female', 'Yes', 'Fri', 'Lunch', 2),\n",
       " (20.45, 3.0, 'Male', 'No', 'Sat', 'Dinner', 4),\n",
       " (13.28, 2.72, 'Male', 'No', 'Sat', 'Dinner', 2),\n",
       " (22.12, 2.88, 'Female', 'Yes', 'Sat', 'Dinner', 2),\n",
       " (24.01, 2.0, 'Male', 'Yes', 'Sat', 'Dinner', 4),\n",
       " (15.69, 3.0, 'Male', 'Yes', 'Sat', 'Dinner', 3),\n",
       " (11.61, 3.39, 'Male', 'No', 'Sat', 'Dinner', 2),\n",
       " (10.77, 1.47, 'Male', 'No', 'Sat', 'Dinner', 2),\n",
       " (15.53, 3.0, 'Male', 'Yes', 'Sat', 'Dinner', 2),\n",
       " (10.07, 1.25, 'Male', 'No', 'Sat', 'Dinner', 2),\n",
       " (12.6, 1.0, 'Male', 'Yes', 'Sat', 'Dinner', 2),\n",
       " (32.83, 1.17, 'Male', 'Yes', 'Sat', 'Dinner', 2),\n",
       " (35.83, 4.67, 'Female', 'No', 'Sat', 'Dinner', 3),\n",
       " (29.03, 5.92, 'Male', 'No', 'Sat', 'Dinner', 3),\n",
       " (27.18, 2.0, 'Female', 'Yes', 'Sat', 'Dinner', 2),\n",
       " (22.67, 2.0, 'Male', 'Yes', 'Sat', 'Dinner', 2),\n",
       " (17.82, 1.75, 'Male', 'No', 'Sat', 'Dinner', 2),\n",
       " (18.78, 3.0, 'Female', 'No', 'Thur', 'Dinner', 2)]"
      ]
     },
     "execution_count": 57,
     "metadata": {},
     "output_type": "execute_result"
    }
   ],
   "source": [
    "cursor.fetchall()"
   ]
  },
  {
   "cell_type": "code",
   "execution_count": 50,
   "id": "80455b23-aa43-4d28-8a87-4b76461b98fc",
   "metadata": {},
   "outputs": [
    {
     "data": {
      "text/plain": [
       "<sqlite3.Cursor at 0x10b387640>"
      ]
     },
     "execution_count": 50,
     "metadata": {},
     "output_type": "execute_result"
    }
   ],
   "source": [
    "cursor.execute('select * from TIPS where tip=23434;')"
   ]
  },
  {
   "cell_type": "code",
   "execution_count": 51,
   "id": "70810199-da7d-4d87-a9d5-03a943c10dca",
   "metadata": {},
   "outputs": [],
   "source": [
    "cursor.fetchone()"
   ]
  },
  {
   "cell_type": "code",
   "execution_count": 53,
   "id": "7a7ea49a-ae8b-4ba0-b2c6-af13ec07d5b2",
   "metadata": {},
   "outputs": [
    {
     "data": {
      "text/plain": [
       "()"
      ]
     },
     "execution_count": 53,
     "metadata": {},
     "output_type": "execute_result"
    }
   ],
   "source": [
    "tuple()"
   ]
  },
  {
   "cell_type": "code",
   "execution_count": 61,
   "id": "baecfdc8-1a48-44b6-b0da-88489436502f",
   "metadata": {},
   "outputs": [
    {
     "name": "stdout",
     "output_type": "stream",
     "text": [
      "(16.99, 1.01, 'Female', 'No', 'Sun', 'Dinner', 2)\n",
      "(10.34, 1.66, 'Male', 'No', 'Sun', 'Dinner', 3)\n",
      "(21.01, 3.5, 'Male', 'No', 'Sun', 'Dinner', 3)\n",
      "(23.68, 3.31, 'Male', 'No', 'Sun', 'Dinner', 2)\n",
      "(24.59, 3.61, 'Female', 'No', 'Sun', 'Dinner', 4)\n"
     ]
    }
   ],
   "source": [
    "for row in cursor:\n",
    "    print(row)"
   ]
  },
  {
   "cell_type": "markdown",
   "id": "e7942bc8-1e5f-4a82-a21b-e02dd95a71cf",
   "metadata": {},
   "source": [
    "### ORM (Object Relational Mapper)\n",
    "\n",
    "- Class to DB table mapping\n",
    "    - CRUD actions from object os classes\n",
    "- Benefits\n",
    "    - SQL knowledge not necessary\n",
    "    - Database (vendor) independent\n",
    "    - Generate SQL for a specific DB vendor"
   ]
  },
  {
   "cell_type": "code",
   "execution_count": 63,
   "id": "c0facd29-3696-4afb-9475-a0be421a2c3a",
   "metadata": {},
   "outputs": [],
   "source": [
    "i = 10\n",
    "...\n",
    "i = 'hello'"
   ]
  },
  {
   "cell_type": "code",
   "execution_count": 65,
   "id": "0940d3ac-d14e-4126-a552-c638a45cc73d",
   "metadata": {},
   "outputs": [],
   "source": [
    "i: int = 10    # type hint/annotation\n",
    "i = 'hello'"
   ]
  },
  {
   "cell_type": "code",
   "execution_count": 67,
   "id": "82b08284-fc98-48ca-acc2-c96cb113f14f",
   "metadata": {},
   "outputs": [],
   "source": [
    "name: str = 'leonardo'"
   ]
  },
  {
   "cell_type": "code",
   "execution_count": 68,
   "id": "a21d42b0-b92f-477d-8250-bce773a1bbb7",
   "metadata": {},
   "outputs": [],
   "source": [
    "def square(n: int) -> int:\n",
    "    return n**2"
   ]
  },
  {
   "cell_type": "code",
   "execution_count": 69,
   "id": "f69732d8-7b7d-4cb6-8792-eb2ca17c1d4d",
   "metadata": {},
   "outputs": [
    {
     "data": {
      "text/plain": [
       "100"
      ]
     },
     "execution_count": 69,
     "metadata": {},
     "output_type": "execute_result"
    }
   ],
   "source": [
    "square(10)"
   ]
  },
  {
   "cell_type": "markdown",
   "id": "8f8d7949-663b-4aba-a120-1bb3538c9bf1",
   "metadata": {},
   "source": [
    "### `TIPS` ORM"
   ]
  },
  {
   "cell_type": "code",
   "execution_count": 10,
   "id": "b9fe3eeb-955f-4553-ae95-20bb815c83eb",
   "metadata": {},
   "outputs": [],
   "source": [
    "import sqlalchemy\n",
    "from sqlalchemy import String\n",
    "from sqlalchemy.orm import Mapped, mapped_column, DeclarativeBase, Session\n",
    "from sqlalchemy import create_engine, select"
   ]
  },
  {
   "cell_type": "code",
   "execution_count": 2,
   "id": "5dab65c7-eca0-48d7-ae5a-9ab91a8bd207",
   "metadata": {},
   "outputs": [],
   "source": [
    "class Base(DeclarativeBase):\n",
    "    pass"
   ]
  },
  {
   "cell_type": "code",
   "execution_count": 3,
   "id": "0bd1b3fc-33c3-4e6b-b85a-204c4bfdd3f6",
   "metadata": {},
   "outputs": [],
   "source": [
    "class Tips(Base):\n",
    "    __tablename__ = \"tips\"\n",
    "    \n",
    "    total_bill: Mapped[float] = mapped_column(primary_key=True)\n",
    "    tip: Mapped[float]\n",
    "    sex: Mapped[str]\n",
    "    smoker: Mapped[str]\n",
    "    day: Mapped[str]\n",
    "    time: Mapped[str]\n",
    "    size: Mapped[int]\n",
    "\n",
    "    def __repr__(self):\n",
    "        return f'Tips({self.total_bill}, {self.tip}, {self.sex})'"
   ]
  },
  {
   "cell_type": "code",
   "execution_count": 4,
   "id": "e11b82ec-ffbb-4c8c-85aa-a26ac62f139c",
   "metadata": {},
   "outputs": [
    {
     "data": {
      "text/plain": [
       "Engine(sqlite:///tips.db)"
      ]
     },
     "execution_count": 4,
     "metadata": {},
     "output_type": "execute_result"
    }
   ],
   "source": [
    "engine = create_engine(url='sqlite:///tips.db', echo=True)\n",
    "engine"
   ]
  },
  {
   "cell_type": "code",
   "execution_count": 7,
   "id": "31726f16-7c78-4228-b5d0-bd4c4712c544",
   "metadata": {},
   "outputs": [
    {
     "data": {
      "text/plain": [
       "<sqlalchemy.orm.session.Session at 0x105f5c590>"
      ]
     },
     "execution_count": 7,
     "metadata": {},
     "output_type": "execute_result"
    }
   ],
   "source": [
    "session = Session(engine)\n",
    "session."
   ]
  },
  {
   "cell_type": "code",
   "execution_count": 9,
   "id": "c1186624-5394-4324-a1c4-31b045d3217c",
   "metadata": {
    "scrolled": true
   },
   "outputs": [
    {
     "name": "stdout",
     "output_type": "stream",
     "text": [
      "Tips(100.1, 2.2, male)\n",
      "2024-11-30 12:23:29,631 INFO sqlalchemy.engine.Engine BEGIN (implicit)\n",
      "2024-11-30 12:23:29,633 INFO sqlalchemy.engine.Engine INSERT INTO tips (total_bill, tip, sex, smoker, day, time, size) VALUES (?, ?, ?, ?, ?, ?, ?)\n",
      "2024-11-30 12:23:29,634 INFO sqlalchemy.engine.Engine [cached since 210.5s ago] (100.1, 2.2, 'male', 'no', 'sun', 'dinner', 19)\n",
      "2024-11-30 12:23:29,637 INFO sqlalchemy.engine.Engine COMMIT\n"
     ]
    }
   ],
   "source": [
    "with Session(engine) as session:\n",
    "    tip = Tips(total_bill=100.1, tip=2.2, sex='male', smoker='no', day='sun', time='dinner', size=19)\n",
    "    print(tip)\n",
    "    session.add(tip)\n",
    "    session.commit()"
   ]
  },
  {
   "cell_type": "code",
   "execution_count": 14,
   "id": "c1d6fe95-fec0-4439-ac49-413337dbe389",
   "metadata": {},
   "outputs": [
    {
     "name": "stdout",
     "output_type": "stream",
     "text": [
      "2024-11-30 12:36:00,005 INFO sqlalchemy.engine.Engine BEGIN (implicit)\n",
      "2024-11-30 12:36:00,009 INFO sqlalchemy.engine.Engine SELECT tips.total_bill, tips.tip, tips.sex, tips.smoker, tips.day, tips.time, tips.size \n",
      "FROM tips \n",
      "WHERE tips.sex = ?\n",
      "2024-11-30 12:36:00,010 INFO sqlalchemy.engine.Engine [cached since 101.4s ago] ('Male',)\n",
      "<sqlalchemy.engine.result.ScalarResult object at 0x11226c870>\n",
      "Tips(10.34, 1.66, Male)\n",
      "Tips(21.01, 3.5, Male)\n",
      "Tips(23.68, 3.31, Male)\n",
      "Tips(25.29, 4.71, Male)\n",
      "Tips(8.77, 2.0, Male)\n",
      "Tips(26.88, 3.12, Male)\n",
      "Tips(15.04, 1.96, Male)\n",
      "Tips(14.78, 3.23, Male)\n",
      "Tips(10.27, 1.71, Male)\n",
      "Tips(15.42, 1.57, Male)\n",
      "Tips(18.43, 3.0, Male)\n",
      "Tips(21.58, 3.92, Male)\n",
      "Tips(16.29, 3.71, Male)\n",
      "Tips(20.65, 3.35, Male)\n",
      "Tips(17.92, 4.08, Male)\n",
      "Tips(39.42, 7.58, Male)\n",
      "Tips(19.82, 3.18, Male)\n",
      "Tips(17.81, 2.34, Male)\n",
      "Tips(13.37, 2.0, Male)\n",
      "Tips(12.69, 2.0, Male)\n",
      "Tips(21.7, 4.3, Male)\n",
      "Tips(9.55, 1.45, Male)\n",
      "Tips(18.35, 2.5, Male)\n",
      "Tips(17.78, 3.27, Male)\n",
      "Tips(24.06, 3.6, Male)\n",
      "Tips(16.31, 2.0, Male)\n",
      "Tips(18.69, 2.31, Male)\n",
      "Tips(31.27, 5.0, Male)\n",
      "Tips(16.04, 2.24, Male)\n",
      "Tips(17.46, 2.54, Male)\n",
      "Tips(13.94, 3.06, Male)\n",
      "Tips(9.68, 1.32, Male)\n",
      "Tips(30.4, 5.6, Male)\n",
      "Tips(18.29, 3.0, Male)\n",
      "Tips(22.23, 5.0, Male)\n",
      "Tips(32.4, 6.0, Male)\n",
      "Tips(28.55, 2.05, Male)\n",
      "Tips(18.04, 3.0, Male)\n",
      "Tips(12.54, 2.5, Male)\n",
      "Tips(9.94, 1.56, Male)\n",
      "Tips(25.56, 4.34, Male)\n",
      "Tips(19.49, 3.51, Male)\n",
      "Tips(38.01, 3.0, Male)\n",
      "Tips(11.24, 1.76, Male)\n",
      "Tips(48.27, 6.73, Male)\n",
      "Tips(20.29, 3.21, Male)\n",
      "Tips(13.81, 2.0, Male)\n",
      "Tips(11.02, 1.98, Male)\n",
      "Tips(18.29, 3.0, Male)\n",
      "Tips(17.59, 2.64, Male)\n",
      "Tips(20.08, 3.15, Male)\n",
      "Tips(20.23, 2.01, Male)\n",
      "Tips(15.01, 2.09, Male)\n",
      "Tips(12.02, 1.97, Male)\n",
      "Tips(10.51, 1.25, Male)\n",
      "Tips(17.92, 4.08, Male)\n",
      "Tips(27.2, 4.0, Male)\n",
      "Tips(22.76, 3.0, Male)\n",
      "Tips(17.29, 2.71, Male)\n",
      "Tips(19.44, 3.0, Male)\n",
      "Tips(16.66, 3.4, Male)\n",
      "Tips(32.68, 5.0, Male)\n",
      "Tips(15.98, 2.03, Male)\n",
      "Tips(13.03, 2.0, Male)\n",
      "Tips(18.28, 4.0, Male)\n",
      "Tips(24.71, 5.85, Male)\n",
      "Tips(21.16, 3.0, Male)\n",
      "Tips(28.97, 3.0, Male)\n",
      "Tips(22.49, 3.5, Male)\n",
      "Tips(40.17, 4.73, Male)\n",
      "Tips(27.28, 4.0, Male)\n",
      "Tips(12.03, 1.5, Male)\n",
      "Tips(21.01, 3.5, Male)\n",
      "Tips(12.46, 1.5, Male)\n",
      "Tips(15.36, 1.64, Male)\n",
      "Tips(20.49, 4.06, Male)\n",
      "Tips(25.21, 4.29, Male)\n",
      "Tips(18.24, 3.76, Male)\n",
      "Tips(14.0, 3.0, Male)\n",
      "Tips(38.07, 4.0, Male)\n",
      "Tips(23.95, 2.55, Male)\n",
      "Tips(29.93, 5.07, Male)\n",
      "Tips(11.69, 2.31, Male)\n",
      "Tips(14.26, 2.5, Male)\n",
      "Tips(15.95, 2.0, Male)\n",
      "Tips(8.52, 1.48, Male)\n",
      "Tips(22.82, 2.18, Male)\n",
      "Tips(19.08, 1.5, Male)\n",
      "Tips(16.0, 2.0, Male)\n",
      "Tips(34.3, 6.7, Male)\n",
      "Tips(41.19, 5.0, Male)\n",
      "Tips(9.78, 1.73, Male)\n",
      "Tips(7.51, 2.0, Male)\n",
      "Tips(14.07, 2.5, Male)\n",
      "Tips(13.13, 2.0, Male)\n",
      "Tips(17.26, 2.74, Male)\n",
      "Tips(24.55, 2.0, Male)\n",
      "Tips(19.77, 2.0, Male)\n",
      "Tips(48.17, 5.0, Male)\n",
      "Tips(16.49, 2.0, Male)\n",
      "Tips(21.5, 3.5, Male)\n",
      "Tips(12.66, 2.5, Male)\n",
      "Tips(13.81, 2.0, Male)\n",
      "Tips(24.52, 3.48, Male)\n",
      "Tips(20.76, 2.24, Male)\n",
      "Tips(31.71, 4.5, Male)\n",
      "Tips(50.81, 10.0, Male)\n",
      "Tips(15.81, 3.16, Male)\n",
      "Tips(7.25, 5.15, Male)\n",
      "Tips(31.85, 3.18, Male)\n",
      "Tips(16.82, 4.0, Male)\n",
      "Tips(32.9, 3.11, Male)\n",
      "Tips(17.89, 2.0, Male)\n",
      "Tips(14.48, 2.0, Male)\n",
      "Tips(34.63, 3.55, Male)\n",
      "Tips(34.65, 3.68, Male)\n",
      "Tips(23.33, 5.65, Male)\n",
      "Tips(45.35, 3.5, Male)\n",
      "Tips(23.17, 6.5, Male)\n",
      "Tips(40.55, 3.0, Male)\n",
      "Tips(20.69, 5.0, Male)\n",
      "Tips(30.46, 2.0, Male)\n",
      "Tips(23.1, 4.0, Male)\n",
      "Tips(15.69, 1.5, Male)\n",
      "Tips(28.44, 2.56, Male)\n",
      "Tips(15.48, 2.02, Male)\n",
      "Tips(16.58, 4.0, Male)\n",
      "Tips(7.56, 1.44, Male)\n",
      "Tips(10.34, 1.66, Male)\n",
      "Tips(13.51, 2.0, Male)\n",
      "Tips(18.71, 4.0, Male)\n",
      "Tips(20.53, 4.0, Male)\n",
      "Tips(26.59, 3.41, Male)\n",
      "Tips(38.73, 3.0, Male)\n",
      "Tips(24.27, 2.03, Male)\n",
      "Tips(30.06, 2.0, Male)\n",
      "Tips(25.89, 5.16, Male)\n",
      "Tips(48.33, 9.0, Male)\n",
      "Tips(28.15, 3.0, Male)\n",
      "Tips(11.59, 1.5, Male)\n",
      "Tips(7.74, 1.44, Male)\n",
      "Tips(12.16, 2.2, Male)\n",
      "Tips(8.58, 1.92, Male)\n",
      "Tips(13.42, 1.58, Male)\n",
      "Tips(20.45, 3.0, Male)\n",
      "Tips(13.28, 2.72, Male)\n",
      "Tips(24.01, 2.0, Male)\n",
      "Tips(15.69, 1.5, Male)\n",
      "Tips(11.61, 3.39, Male)\n",
      "Tips(10.77, 1.47, Male)\n",
      "Tips(15.53, 3.0, Male)\n",
      "Tips(10.07, 1.25, Male)\n",
      "Tips(12.6, 1.0, Male)\n",
      "Tips(32.83, 1.17, Male)\n",
      "Tips(29.03, 5.92, Male)\n",
      "Tips(22.67, 2.0, Male)\n",
      "Tips(17.82, 1.75, Male)\n",
      "Tips(101.1, 1.1, Male)\n",
      "Tips(101.1, 1.1, Male)\n",
      "2024-11-30 12:36:00,020 INFO sqlalchemy.engine.Engine ROLLBACK\n"
     ]
    }
   ],
   "source": [
    "with Session(engine) as session:\n",
    "    stmt = select(Tips.total_bill).filter(Tips.sex.__eq__('Male'))\n",
    "\n",
    "    result = session.scalars(stmt)\n",
    "    print(result)\n",
    "    for row in result:\n",
    "        print(row)"
   ]
  },
  {
   "cell_type": "code",
   "execution_count": null,
   "id": "f0a22ac8-28a7-4baf-9549-d991b15579bc",
   "metadata": {},
   "outputs": [],
   "source": []
  },
  {
   "cell_type": "code",
   "execution_count": null,
   "id": "6954a1f8-6ebe-481e-bc07-3d17f85830d6",
   "metadata": {},
   "outputs": [],
   "source": [
    "'''\n",
    "SELECT * from TIPS where sex = 'Male'\n",
    "'''"
   ]
  }
 ],
 "metadata": {
  "kernelspec": {
   "display_name": "Python 3 (ipykernel)",
   "language": "python",
   "name": "python3"
  },
  "language_info": {
   "codemirror_mode": {
    "name": "ipython",
    "version": 3
   },
   "file_extension": ".py",
   "mimetype": "text/x-python",
   "name": "python",
   "nbconvert_exporter": "python",
   "pygments_lexer": "ipython3",
   "version": "3.11.0"
  }
 },
 "nbformat": 4,
 "nbformat_minor": 5
}
